{
 "cells": [
  {
   "cell_type": "markdown",
   "id": "3ea9624d-079e-4d23-af52-87a0ae575074",
   "metadata": {},
   "source": [
    "![](https://velog.velcdn.com/images/hyejinbeck/post/62137914-908c-4f6d-8169-8ae0afd6df10/image.png)\n",
    "![](https://velog.velcdn.com/images/hyejinbeck/post/14254127-911b-4d2c-8dfc-f76aef05b2d0/image.png)\n",
    "![](https://velog.velcdn.com/images/hyejinbeck/post/9f3b8468-56ea-406a-9d9f-563292ba656d/image.png)\n",
    "\n",
    "\n"
   ]
  },
  {
   "cell_type": "code",
   "execution_count": 3,
   "id": "728de5dc-3b20-4905-94cc-d97d5f0dbc47",
   "metadata": {},
   "outputs": [],
   "source": [
    "# 초기셋팅 \n",
    "# !pip install -r requirements.txt\n",
    "import pandas as pd \n",
    "list1 = pd.read_csv('./Dataset/Dataset_05_item_list.csv')\n",
    "list2 = pd.read_csv('./Dataset/Dataset_05_Mart_POS.csv')"
   ]
  },
  {
   "cell_type": "code",
   "execution_count": null,
   "id": "9eacd739-1a56-41bf-b468-2e91ba720381",
   "metadata": {},
   "outputs": [],
   "source": []
  }
 ],
 "metadata": {
  "kernelspec": {
   "display_name": "Python 3 (ipykernel)",
   "language": "python",
   "name": "python3"
  },
  "language_info": {
   "codemirror_mode": {
    "name": "ipython",
    "version": 3
   },
   "file_extension": ".py",
   "mimetype": "text/x-python",
   "name": "python",
   "nbconvert_exporter": "python",
   "pygments_lexer": "ipython3",
   "version": "3.10.11"
  }
 },
 "nbformat": 4,
 "nbformat_minor": 5
}
