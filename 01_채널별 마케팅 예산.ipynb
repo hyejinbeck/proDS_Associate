{
 "cells": [
  {
   "cell_type": "markdown",
   "id": "1c3ce682-4bab-4933-a9ae-ec0fa6003e1c",
   "metadata": {},
   "source": [
    "![](https://velog.velcdn.com/images/hyejinbeck/post/5480e975-148c-424f-9ddf-782f2208548c/image.png)\n",
    "\n",
    "![](https://velog.velcdn.com/images/hyejinbeck/post/35d30168-501c-4365-aa2f-a4e666d59ed4/image.png)"
   ]
  },
  {
   "cell_type": "markdown",
   "id": "85c8a607-f34d-4121-9161-5728c21045da",
   "metadata": {},
   "source": [
    "# 풀이과정 "
   ]
  },
  {
   "cell_type": "code",
   "execution_count": 25,
   "id": "34f7a664-320c-4d80-b6e3-9bda8db94b7a",
   "metadata": {},
   "outputs": [],
   "source": [
    "# 필요함수 \n",
    "import pandas as pd"
   ]
  },
  {
   "cell_type": "code",
   "execution_count": 26,
   "id": "3975adcc-bcec-47f4-bf09-9258d9035002",
   "metadata": {},
   "outputs": [
    {
     "data": {
      "text/html": [
       "<div>\n",
       "<style scoped>\n",
       "    .dataframe tbody tr th:only-of-type {\n",
       "        vertical-align: middle;\n",
       "    }\n",
       "\n",
       "    .dataframe tbody tr th {\n",
       "        vertical-align: top;\n",
       "    }\n",
       "\n",
       "    .dataframe thead th {\n",
       "        text-align: right;\n",
       "    }\n",
       "</style>\n",
       "<table border=\"1\" class=\"dataframe\">\n",
       "  <thead>\n",
       "    <tr style=\"text-align: right;\">\n",
       "      <th></th>\n",
       "      <th>TV</th>\n",
       "      <th>Radio</th>\n",
       "      <th>Social_Media</th>\n",
       "      <th>Influencer</th>\n",
       "      <th>Sales</th>\n",
       "    </tr>\n",
       "  </thead>\n",
       "  <tbody>\n",
       "    <tr>\n",
       "      <th>0</th>\n",
       "      <td>16.0</td>\n",
       "      <td>6.566231</td>\n",
       "      <td>2.907983</td>\n",
       "      <td>Mega</td>\n",
       "      <td>54.732757</td>\n",
       "    </tr>\n",
       "    <tr>\n",
       "      <th>1</th>\n",
       "      <td>13.0</td>\n",
       "      <td>9.237765</td>\n",
       "      <td>2.409567</td>\n",
       "      <td>Mega</td>\n",
       "      <td>46.677897</td>\n",
       "    </tr>\n",
       "    <tr>\n",
       "      <th>2</th>\n",
       "      <td>41.0</td>\n",
       "      <td>15.886446</td>\n",
       "      <td>2.913410</td>\n",
       "      <td>Mega</td>\n",
       "      <td>150.177829</td>\n",
       "    </tr>\n",
       "    <tr>\n",
       "      <th>3</th>\n",
       "      <td>83.0</td>\n",
       "      <td>30.020028</td>\n",
       "      <td>6.922304</td>\n",
       "      <td>Mega</td>\n",
       "      <td>298.246340</td>\n",
       "    </tr>\n",
       "    <tr>\n",
       "      <th>4</th>\n",
       "      <td>15.0</td>\n",
       "      <td>8.437408</td>\n",
       "      <td>1.405998</td>\n",
       "      <td>Micro</td>\n",
       "      <td>56.594181</td>\n",
       "    </tr>\n",
       "  </tbody>\n",
       "</table>\n",
       "</div>"
      ],
      "text/plain": [
       "     TV      Radio  Social_Media Influencer       Sales\n",
       "0  16.0   6.566231      2.907983       Mega   54.732757\n",
       "1  13.0   9.237765      2.409567       Mega   46.677897\n",
       "2  41.0  15.886446      2.913410       Mega  150.177829\n",
       "3  83.0  30.020028      6.922304       Mega  298.246340\n",
       "4  15.0   8.437408      1.405998      Micro   56.594181"
      ]
     },
     "execution_count": 26,
     "metadata": {},
     "output_type": "execute_result"
    }
   ],
   "source": [
    "# 불러오기 \n",
    "data = pd.read_csv('./Dataset/Dataset_01.csv')\n",
    "data.head()"
   ]
  },
  {
   "cell_type": "code",
   "execution_count": 27,
   "id": "bd5ce1ed-97fa-47d3-98f4-793b340853c7",
   "metadata": {},
   "outputs": [
    {
     "name": "stdout",
     "output_type": "stream",
     "text": [
      "<class 'pandas.core.frame.DataFrame'>\n",
      "RangeIndex: 4572 entries, 0 to 4571\n",
      "Data columns (total 5 columns):\n",
      " #   Column        Non-Null Count  Dtype  \n",
      "---  ------        --------------  -----  \n",
      " 0   TV            4562 non-null   float64\n",
      " 1   Radio         4568 non-null   float64\n",
      " 2   Social_Media  4566 non-null   float64\n",
      " 3   Influencer    4572 non-null   object \n",
      " 4   Sales         4566 non-null   float64\n",
      "dtypes: float64(4), object(1)\n",
      "memory usage: 178.7+ KB\n"
     ]
    }
   ],
   "source": [
    "# 데이터 확인 \n",
    "data.info()"
   ]
  },
  {
   "cell_type": "code",
   "execution_count": 28,
   "id": "91519f72-31a5-477e-ab65-a6b6758307a3",
   "metadata": {},
   "outputs": [
    {
     "data": {
      "text/plain": [
       "26"
      ]
     },
     "execution_count": 28,
     "metadata": {},
     "output_type": "execute_result"
    }
   ],
   "source": [
    "# 결측치 갯수 확인 \n",
    "data.isna().sum().sum()"
   ]
  },
  {
   "cell_type": "markdown",
   "id": "25b07d6d-cb89-4f7b-a22f-3925b539aff4",
   "metadata": {},
   "source": [
    "# 상관분석"
   ]
  },
  {
   "cell_type": "code",
   "execution_count": 29,
   "id": "4fc30a30-7b22-4f02-a985-73cc2900bb43",
   "metadata": {},
   "outputs": [
    {
     "data": {
      "text/plain": [
       "Index(['TV', 'Radio', 'Social_Media', 'Influencer', 'Sales'], dtype='object')"
      ]
     },
     "execution_count": 29,
     "metadata": {},
     "output_type": "execute_result"
    }
   ],
   "source": [
    "# 변수 확인 \n",
    "data.columns"
   ]
  },
  {
   "cell_type": "code",
   "execution_count": 30,
   "id": "0be48721-464a-4bda-85a9-0982a395fdb9",
   "metadata": {},
   "outputs": [],
   "source": [
    "# 필요 변수 : 상과분석용(y포함)\n",
    "features = ['TV', 'Radio', 'Social_Media','Sales']"
   ]
  },
  {
   "cell_type": "code",
   "execution_count": 31,
   "id": "81eae3dd-f0bf-4121-bc98-50c40416db71",
   "metadata": {},
   "outputs": [
    {
     "data": {
      "text/html": [
       "<div>\n",
       "<style scoped>\n",
       "    .dataframe tbody tr th:only-of-type {\n",
       "        vertical-align: middle;\n",
       "    }\n",
       "\n",
       "    .dataframe tbody tr th {\n",
       "        vertical-align: top;\n",
       "    }\n",
       "\n",
       "    .dataframe thead th {\n",
       "        text-align: right;\n",
       "    }\n",
       "</style>\n",
       "<table border=\"1\" class=\"dataframe\">\n",
       "  <thead>\n",
       "    <tr style=\"text-align: right;\">\n",
       "      <th></th>\n",
       "      <th>TV</th>\n",
       "      <th>Radio</th>\n",
       "      <th>Social_Media</th>\n",
       "      <th>Sales</th>\n",
       "    </tr>\n",
       "  </thead>\n",
       "  <tbody>\n",
       "    <tr>\n",
       "      <th>TV</th>\n",
       "      <td>1.000000</td>\n",
       "      <td>0.869460</td>\n",
       "      <td>0.528168</td>\n",
       "      <td>0.999497</td>\n",
       "    </tr>\n",
       "    <tr>\n",
       "      <th>Radio</th>\n",
       "      <td>0.869460</td>\n",
       "      <td>1.000000</td>\n",
       "      <td>0.607452</td>\n",
       "      <td>0.869105</td>\n",
       "    </tr>\n",
       "    <tr>\n",
       "      <th>Social_Media</th>\n",
       "      <td>0.528168</td>\n",
       "      <td>0.607452</td>\n",
       "      <td>1.000000</td>\n",
       "      <td>0.528906</td>\n",
       "    </tr>\n",
       "    <tr>\n",
       "      <th>Sales</th>\n",
       "      <td>0.999497</td>\n",
       "      <td>0.869105</td>\n",
       "      <td>0.528906</td>\n",
       "      <td>1.000000</td>\n",
       "    </tr>\n",
       "  </tbody>\n",
       "</table>\n",
       "</div>"
      ],
      "text/plain": [
       "                    TV     Radio  Social_Media     Sales\n",
       "TV            1.000000  0.869460      0.528168  0.999497\n",
       "Radio         0.869460  1.000000      0.607452  0.869105\n",
       "Social_Media  0.528168  0.607452      1.000000  0.528906\n",
       "Sales         0.999497  0.869105      0.528906  1.000000"
      ]
     },
     "execution_count": 31,
     "metadata": {},
     "output_type": "execute_result"
    }
   ],
   "source": [
    "# 상관계수 구하기\n",
    "q2 = data[features].corr()\n",
    "q2"
   ]
  },
  {
   "cell_type": "code",
   "execution_count": 32,
   "id": "6ba9abaa-7732-4cf0-b303-6ce158754680",
   "metadata": {},
   "outputs": [
    {
     "data": {
      "text/html": [
       "<div>\n",
       "<style scoped>\n",
       "    .dataframe tbody tr th:only-of-type {\n",
       "        vertical-align: middle;\n",
       "    }\n",
       "\n",
       "    .dataframe tbody tr th {\n",
       "        vertical-align: top;\n",
       "    }\n",
       "\n",
       "    .dataframe thead th {\n",
       "        text-align: right;\n",
       "    }\n",
       "</style>\n",
       "<table border=\"1\" class=\"dataframe\">\n",
       "  <thead>\n",
       "    <tr style=\"text-align: right;\">\n",
       "      <th></th>\n",
       "      <th>TV</th>\n",
       "      <th>Radio</th>\n",
       "      <th>Social_Media</th>\n",
       "      <th>Sales</th>\n",
       "    </tr>\n",
       "  </thead>\n",
       "  <tbody>\n",
       "    <tr>\n",
       "      <th>TV</th>\n",
       "      <td>1.000000</td>\n",
       "      <td>0.869460</td>\n",
       "      <td>0.528168</td>\n",
       "      <td>0.999497</td>\n",
       "    </tr>\n",
       "    <tr>\n",
       "      <th>Radio</th>\n",
       "      <td>0.869460</td>\n",
       "      <td>1.000000</td>\n",
       "      <td>0.607452</td>\n",
       "      <td>0.869105</td>\n",
       "    </tr>\n",
       "    <tr>\n",
       "      <th>Social_Media</th>\n",
       "      <td>0.528168</td>\n",
       "      <td>0.607452</td>\n",
       "      <td>1.000000</td>\n",
       "      <td>0.528906</td>\n",
       "    </tr>\n",
       "  </tbody>\n",
       "</table>\n",
       "</div>"
      ],
      "text/plain": [
       "                    TV     Radio  Social_Media     Sales\n",
       "TV            1.000000  0.869460      0.528168  0.999497\n",
       "Radio         0.869460  1.000000      0.607452  0.869105\n",
       "Social_Media  0.528168  0.607452      1.000000  0.528906"
      ]
     },
     "execution_count": 32,
     "metadata": {},
     "output_type": "execute_result"
    }
   ],
   "source": [
    "# Sales(y)제외\n",
    "q2.drop('Sales')"
   ]
  },
  {
   "cell_type": "code",
   "execution_count": 33,
   "id": "62298e43-76da-4ff3-b4ef-d1e93707e411",
   "metadata": {},
   "outputs": [
    {
     "data": {
      "text/plain": [
       "TV              0.999497\n",
       "Radio           0.869105\n",
       "Social_Media    0.528906\n",
       "Name: Sales, dtype: float64"
      ]
     },
     "execution_count": 33,
     "metadata": {},
     "output_type": "execute_result"
    }
   ],
   "source": [
    "# Sales(y)제외 + Sales(y)컬럼 기준으로 상관계수 \n",
    "q2.drop('Sales')['Sales']"
   ]
  },
  {
   "cell_type": "code",
   "execution_count": 34,
   "id": "03d0d732-ede3-482d-887c-f74cba6da9ae",
   "metadata": {},
   "outputs": [
    {
     "data": {
      "text/plain": [
       "TV              0.999497\n",
       "Radio           0.869105\n",
       "Social_Media    0.528906\n",
       "Name: Sales, dtype: float64"
      ]
     },
     "execution_count": 34,
     "metadata": {},
     "output_type": "execute_result"
    }
   ],
   "source": [
    "# Sales(y)제외 + Sales(y)컬럼 기준으로 상관계수 + 음수양수 구분없이 절대값 \n",
    "q2.drop('Sales')['Sales'].abs()"
   ]
  },
  {
   "cell_type": "code",
   "execution_count": 35,
   "id": "f5e0ede6-5215-4ae9-a41a-33414fe9adcc",
   "metadata": {},
   "outputs": [
    {
     "data": {
      "text/plain": [
       "0.999497444941335"
      ]
     },
     "execution_count": 35,
     "metadata": {},
     "output_type": "execute_result"
    }
   ],
   "source": [
    "# Sales(y)제외 + Sales(y)컬럼 기준으로 상관계수 + 음수양수 구분없이 절대값 + 가장 큰 수\n",
    "q2.drop('Sales')['Sales'].abs().max()"
   ]
  },
  {
   "cell_type": "markdown",
   "id": "8ae8df06-6a0e-4d56-a167-8773f86d9b6e",
   "metadata": {},
   "source": [
    "**참고**\n",
    "\n",
    "|함수|기능|출력값|\n",
    "|--|--|--|\n",
    "|.max()|최대값|0.9999975128071286|\n",
    "|.min()|최소값|0.7874050943998586|\n",
    "|.nlargest(n)|최상위 n개의 인덱스와 상관계수|TV    0.999998|\n",
    "|.nsmallest(n)|최하위 n개의 인덱스와 상관계수|Radio    0.787405|\n",
    "|.idxmax()|최대값의 인덱스만|'TV'|\n",
    "|.argmax()|최대값의 위치번호만|0|"
   ]
  },
  {
   "cell_type": "code",
   "execution_count": 36,
   "id": "37aaecd2-0e09-492e-a233-fe436d9ada2b",
   "metadata": {},
   "outputs": [
    {
     "data": {
      "text/plain": [
       "0.9995"
      ]
     },
     "execution_count": 36,
     "metadata": {},
     "output_type": "execute_result"
    }
   ],
   "source": [
    "# 소숫점 넷째자리에서 반올림\n",
    "round(q2.drop('Sales')['Sales'].abs().max(), 4)"
   ]
  },
  {
   "cell_type": "code",
   "execution_count": 37,
   "id": "f6054e07-4735-40d8-9b74-0299ead8f7a7",
   "metadata": {},
   "outputs": [
    {
     "name": "stdout",
     "output_type": "stream",
     "text": [
      "매출액에 영향력이 큰 마케팅 채널은 TV이며 상관계수 0.999497입니다.\n",
      "매출액에 영향력이 없는 마케팅 채널은 Social_Media이며 상관계수 0.528906입니다.\n"
     ]
    }
   ],
   "source": [
    "goodmarketing = q2.drop('Sales')['Sales'].abs().nlargest(1)\n",
    "sosomarketing = q2.drop('Sales')['Sales'].abs().nsmallest(1)\n",
    "\n",
    "print(f'매출액에 영향력이 큰 마케팅 채널은 {goodmarketing.index[0]}이며 상관계수 {goodmarketing.values[0]:.6f}입니다.')\n",
    "print(f'매출액에 영향력이 없는 마케팅 채널은 {sosomarketing.index[0]}이며 상관계수 {sosomarketing.values[0]:.6f}입니다.')"
   ]
  },
  {
   "cell_type": "markdown",
   "id": "25f96b96-e3f4-4710-ac73-216845411b0f",
   "metadata": {},
   "source": [
    "# 회귀분석"
   ]
  },
  {
   "cell_type": "code",
   "execution_count": 38,
   "id": "6582ddac-bb4c-4500-b7f4-deccf0cd654f",
   "metadata": {},
   "outputs": [
    {
     "data": {
      "text/plain": [
       "Index(['TV', 'Radio', 'Social_Media', 'Influencer', 'Sales'], dtype='object')"
      ]
     },
     "execution_count": 38,
     "metadata": {},
     "output_type": "execute_result"
    }
   ],
   "source": [
    "# 변수확인\n",
    "data.columns"
   ]
  },
  {
   "cell_type": "code",
   "execution_count": 39,
   "id": "e50bd732-ec53-412c-90c6-b2e5370c23e5",
   "metadata": {},
   "outputs": [],
   "source": [
    "# 필요 변수 : 상과분석용(y제외)\n",
    "features = ['TV', 'Radio', 'Social_Media']"
   ]
  },
  {
   "cell_type": "code",
   "execution_count": 40,
   "id": "d80d4c74-7556-403e-9fbc-6cd1eccdf8b0",
   "metadata": {},
   "outputs": [],
   "source": [
    "# 결측치 제거 \n",
    "q3 = data.dropna()"
   ]
  },
  {
   "cell_type": "code",
   "execution_count": 41,
   "id": "663a3e84-dafa-49e8-bc95-283a4b311ecd",
   "metadata": {},
   "outputs": [
    {
     "data": {
      "text/plain": [
       "0"
      ]
     },
     "execution_count": 41,
     "metadata": {},
     "output_type": "execute_result"
    }
   ],
   "source": [
    "# 결측치 제거 확인\n",
    "q3.isna().sum().sum()"
   ]
  },
  {
   "cell_type": "code",
   "execution_count": 18,
   "id": "7af53782-5a17-4066-9c2c-4622252f74b6",
   "metadata": {},
   "outputs": [],
   "source": [
    "# 회귀함수 \n",
    "from sklearn.linear_model import LinearRegression"
   ]
  },
  {
   "cell_type": "code",
   "execution_count": 42,
   "id": "78ca0d8e-9604-4984-a508-82f6958edf61",
   "metadata": {},
   "outputs": [],
   "source": [
    "# 회귀모델\n",
    "model = LinearRegression().fit(q3[features],q3.Sales)"
   ]
  },
  {
   "cell_type": "code",
   "execution_count": 20,
   "id": "fdd99271-6eb5-4885-9bfa-4676828627fa",
   "metadata": {},
   "outputs": [
    {
     "data": {
      "text/plain": [
       "3.5625696271199097"
      ]
     },
     "execution_count": 20,
     "metadata": {},
     "output_type": "execute_result"
    }
   ],
   "source": [
    "# 가장 큰 회귀 계수 \n",
    "model.coef_.max()"
   ]
  },
  {
   "cell_type": "code",
   "execution_count": 24,
   "id": "0da74613-30a1-47b0-8c87-f718568f3918",
   "metadata": {},
   "outputs": [
    {
     "name": "stdout",
     "output_type": "stream",
     "text": [
      "매출액에 가장 큰 영향을 미치는 마케팅 채널은 TV이며, 회귀계수는 3.562570입니다.\n",
      "매출액에 가장 적은 영향을 미치는 마케팅 채널은 Radio이며, 회귀계수는 -0.003970입니다.\n"
     ]
    }
   ],
   "source": [
    "# 가장 큰 회귀계수와 해당 변수 구하기\n",
    "max_coef_index = model.coef_.argmax()\n",
    "max_coef_value = model.coef_.max()\n",
    "max_coef_channel = features[max_coef_index]\n",
    "\n",
    "# 가장 적은 회귀계수와 해당 변수 구하기\n",
    "min_coef_index = model.coef_.argmin()\n",
    "min_coef_value = model.coef_.min()\n",
    "min_coef_channel = features[min_coef_index]\n",
    "\n",
    "# 매출액에 가장 큰 영향력, 가장 작은 영향력을 미치는 마케팅 채널 확인 \n",
    "print(f'매출액에 가장 큰 영향을 미치는 마케팅 채널은 {max_coef_channel}이며, 회귀계수는 {max_coef_value:.6f}입니다.')\n",
    "print(f'매출액에 가장 적은 영향을 미치는 마케팅 채널은 {min_coef_channel}이며, 회귀계수는 {min_coef_value:.6f}입니다.')"
   ]
  },
  {
   "cell_type": "markdown",
   "id": "c390314a-273e-4aac-b739-8282993e1d13",
   "metadata": {},
   "source": [
    "# 매출에 가장 효과적인 마케팅 방법\n",
    "상관분석과 회귀분석 결과, <br>\n",
    "매출액(Sales)에 가장 큰 영향력이 있는 마케팅 채널은 **TV** 로 확인됩니다. "
   ]
  },
  {
   "cell_type": "markdown",
   "id": "c49915ba-5a96-4522-b2da-a8dbbcd7f6c0",
   "metadata": {},
   "source": [
    "# 코드정리 \n",
    "|문제|순서|코드|\n",
    "|--|--|--|\n",
    "||필요함수|import pandas as pd|\n",
    "||불러오기|data = pd.read_csv('Dataset_01.csv')|\n",
    "|1|결측치 갯수|data.isna().sum().sum()|\n",
    "|2||세 마케팅 채널 예산(x)과 매출액(y)의 상관분석을 하여, 매출액(y)와 가장 강한 상관관계를 가지고 있는 채널의 상관계수의 소숫점 넷째자리까지 구하라(반올림)|\n",
    "||필요변수(y포함)|features = ['TV', 'Radio', 'Social_Media','Sales']|\n",
    "||상관계수|q2 = data[feautres].corr()|\n",
    "||가장 큰 절대값|q2.drop('Sales')['Sales'].abs().max()|\n",
    "||반올림|round(q2,4)|\n",
    "|3||세 마케팅 채널 예산(x)과 매출액(y) 회귀분석을 하여, 세 개 독립변수의 가장 큰 회귀계수의 소수점 셋째자리까지 구하라(결측치 제거후 진행)|\n",
    "||필요변수(y제외)|features = ['TV', 'Radio', 'Social_Media']|\n",
    "||결측치 제거|q3 = data.dropna()|\n",
    "||회귀함수|from sklearn.linear_model import LinearRegression|\n",
    "||회귀모델|model = LinearRegression().fit(q3[feautres],q3.Sales)|\n",
    "||회귀계수 가장 큰 값|model.coef_.max()|\n"
   ]
  }
 ],
 "metadata": {
  "kernelspec": {
   "display_name": "Python 3 (ipykernel)",
   "language": "python",
   "name": "python3"
  },
  "language_info": {
   "codemirror_mode": {
    "name": "ipython",
    "version": 3
   },
   "file_extension": ".py",
   "mimetype": "text/x-python",
   "name": "python",
   "nbconvert_exporter": "python",
   "pygments_lexer": "ipython3",
   "version": "3.10.11"
  }
 },
 "nbformat": 4,
 "nbformat_minor": 5
}
