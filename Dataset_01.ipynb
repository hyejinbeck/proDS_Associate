{
 "cells": [
  {
   "cell_type": "markdown",
   "id": "1c3ce682-4bab-4933-a9ae-ec0fa6003e1c",
   "metadata": {},
   "source": [
    "![](https://velog.velcdn.com/images/hyejinbeck/post/5480e975-148c-424f-9ddf-782f2208548c/image.png)\n",
    "\n",
    "![](https://velog.velcdn.com/images/hyejinbeck/post/35d30168-501c-4365-aa2f-a4e666d59ed4/image.png)"
   ]
  },
  {
   "cell_type": "markdown",
   "id": "85c8a607-f34d-4121-9161-5728c21045da",
   "metadata": {},
   "source": [
    "# 풀이과정 "
   ]
  },
  {
   "cell_type": "code",
   "execution_count": 1,
   "id": "34f7a664-320c-4d80-b6e3-9bda8db94b7a",
   "metadata": {},
   "outputs": [],
   "source": [
    "# 필요함수 \n",
    "import pandas as pd"
   ]
  },
  {
   "cell_type": "code",
   "execution_count": 2,
   "id": "3975adcc-bcec-47f4-bf09-9258d9035002",
   "metadata": {},
   "outputs": [
    {
     "data": {
      "text/html": [
       "<div>\n",
       "<style scoped>\n",
       "    .dataframe tbody tr th:only-of-type {\n",
       "        vertical-align: middle;\n",
       "    }\n",
       "\n",
       "    .dataframe tbody tr th {\n",
       "        vertical-align: top;\n",
       "    }\n",
       "\n",
       "    .dataframe thead th {\n",
       "        text-align: right;\n",
       "    }\n",
       "</style>\n",
       "<table border=\"1\" class=\"dataframe\">\n",
       "  <thead>\n",
       "    <tr style=\"text-align: right;\">\n",
       "      <th></th>\n",
       "      <th>TV</th>\n",
       "      <th>Radio</th>\n",
       "      <th>Social_Media</th>\n",
       "      <th>Influencer</th>\n",
       "      <th>Sales</th>\n",
       "    </tr>\n",
       "  </thead>\n",
       "  <tbody>\n",
       "    <tr>\n",
       "      <th>0</th>\n",
       "      <td>16.0</td>\n",
       "      <td>6.566231</td>\n",
       "      <td>2.907983</td>\n",
       "      <td>Mega</td>\n",
       "      <td>54.732757</td>\n",
       "    </tr>\n",
       "    <tr>\n",
       "      <th>1</th>\n",
       "      <td>13.0</td>\n",
       "      <td>9.237765</td>\n",
       "      <td>2.409567</td>\n",
       "      <td>Mega</td>\n",
       "      <td>46.677897</td>\n",
       "    </tr>\n",
       "    <tr>\n",
       "      <th>2</th>\n",
       "      <td>41.0</td>\n",
       "      <td>15.886446</td>\n",
       "      <td>2.913410</td>\n",
       "      <td>Mega</td>\n",
       "      <td>150.177829</td>\n",
       "    </tr>\n",
       "    <tr>\n",
       "      <th>3</th>\n",
       "      <td>83.0</td>\n",
       "      <td>30.020028</td>\n",
       "      <td>6.922304</td>\n",
       "      <td>Mega</td>\n",
       "      <td>298.246340</td>\n",
       "    </tr>\n",
       "    <tr>\n",
       "      <th>4</th>\n",
       "      <td>15.0</td>\n",
       "      <td>8.437408</td>\n",
       "      <td>1.405998</td>\n",
       "      <td>Micro</td>\n",
       "      <td>56.594181</td>\n",
       "    </tr>\n",
       "  </tbody>\n",
       "</table>\n",
       "</div>"
      ],
      "text/plain": [
       "     TV      Radio  Social_Media Influencer       Sales\n",
       "0  16.0   6.566231      2.907983       Mega   54.732757\n",
       "1  13.0   9.237765      2.409567       Mega   46.677897\n",
       "2  41.0  15.886446      2.913410       Mega  150.177829\n",
       "3  83.0  30.020028      6.922304       Mega  298.246340\n",
       "4  15.0   8.437408      1.405998      Micro   56.594181"
      ]
     },
     "execution_count": 2,
     "metadata": {},
     "output_type": "execute_result"
    }
   ],
   "source": [
    "# 불러오기 \n",
    "data = pd.read_csv('./Dataset/Dataset_01.csv')\n",
    "data.head()"
   ]
  },
  {
   "cell_type": "code",
   "execution_count": 3,
   "id": "bd5ce1ed-97fa-47d3-98f4-793b340853c7",
   "metadata": {},
   "outputs": [
    {
     "name": "stdout",
     "output_type": "stream",
     "text": [
      "<class 'pandas.core.frame.DataFrame'>\n",
      "RangeIndex: 4572 entries, 0 to 4571\n",
      "Data columns (total 5 columns):\n",
      " #   Column        Non-Null Count  Dtype  \n",
      "---  ------        --------------  -----  \n",
      " 0   TV            4562 non-null   float64\n",
      " 1   Radio         4568 non-null   float64\n",
      " 2   Social_Media  4566 non-null   float64\n",
      " 3   Influencer    4572 non-null   object \n",
      " 4   Sales         4566 non-null   float64\n",
      "dtypes: float64(4), object(1)\n",
      "memory usage: 178.7+ KB\n"
     ]
    }
   ],
   "source": [
    "# 데이터 확인 \n",
    "data.info()"
   ]
  },
  {
   "cell_type": "code",
   "execution_count": 4,
   "id": "91519f72-31a5-477e-ab65-a6b6758307a3",
   "metadata": {},
   "outputs": [
    {
     "data": {
      "text/plain": [
       "26"
      ]
     },
     "execution_count": 4,
     "metadata": {},
     "output_type": "execute_result"
    }
   ],
   "source": [
    "# 결측치 갯수 확인 \n",
    "data.isna().sum().sum()"
   ]
  },
  {
   "cell_type": "markdown",
   "id": "25b07d6d-cb89-4f7b-a22f-3925b539aff4",
   "metadata": {},
   "source": [
    "### 세 마케팅 채널 예산(x)와 매출액(y)의 상관분석으로, 매출액(y)와 가장 강한 상관계수 구하기 "
   ]
  },
  {
   "cell_type": "code",
   "execution_count": 5,
   "id": "4fc30a30-7b22-4f02-a985-73cc2900bb43",
   "metadata": {},
   "outputs": [
    {
     "data": {
      "text/plain": [
       "Index(['TV', 'Radio', 'Social_Media', 'Influencer', 'Sales'], dtype='object')"
      ]
     },
     "execution_count": 5,
     "metadata": {},
     "output_type": "execute_result"
    }
   ],
   "source": [
    "# 변수 확인 \n",
    "data.columns"
   ]
  },
  {
   "cell_type": "code",
   "execution_count": 6,
   "id": "0be48721-464a-4bda-85a9-0982a395fdb9",
   "metadata": {},
   "outputs": [],
   "source": [
    "# 필요 변수 : 상과분석용(y포함)\n",
    "features = ['TV', 'Radio', 'Social_Media','Sales']"
   ]
  },
  {
   "cell_type": "code",
   "execution_count": 7,
   "id": "81eae3dd-f0bf-4121-bc98-50c40416db71",
   "metadata": {},
   "outputs": [
    {
     "data": {
      "text/html": [
       "<div>\n",
       "<style scoped>\n",
       "    .dataframe tbody tr th:only-of-type {\n",
       "        vertical-align: middle;\n",
       "    }\n",
       "\n",
       "    .dataframe tbody tr th {\n",
       "        vertical-align: top;\n",
       "    }\n",
       "\n",
       "    .dataframe thead th {\n",
       "        text-align: right;\n",
       "    }\n",
       "</style>\n",
       "<table border=\"1\" class=\"dataframe\">\n",
       "  <thead>\n",
       "    <tr style=\"text-align: right;\">\n",
       "      <th></th>\n",
       "      <th>TV</th>\n",
       "      <th>Radio</th>\n",
       "      <th>Social_Media</th>\n",
       "      <th>Sales</th>\n",
       "    </tr>\n",
       "  </thead>\n",
       "  <tbody>\n",
       "    <tr>\n",
       "      <th>TV</th>\n",
       "      <td>1.000000</td>\n",
       "      <td>0.869460</td>\n",
       "      <td>0.528168</td>\n",
       "      <td>0.999497</td>\n",
       "    </tr>\n",
       "    <tr>\n",
       "      <th>Radio</th>\n",
       "      <td>0.869460</td>\n",
       "      <td>1.000000</td>\n",
       "      <td>0.607452</td>\n",
       "      <td>0.869105</td>\n",
       "    </tr>\n",
       "    <tr>\n",
       "      <th>Social_Media</th>\n",
       "      <td>0.528168</td>\n",
       "      <td>0.607452</td>\n",
       "      <td>1.000000</td>\n",
       "      <td>0.528906</td>\n",
       "    </tr>\n",
       "    <tr>\n",
       "      <th>Sales</th>\n",
       "      <td>0.999497</td>\n",
       "      <td>0.869105</td>\n",
       "      <td>0.528906</td>\n",
       "      <td>1.000000</td>\n",
       "    </tr>\n",
       "  </tbody>\n",
       "</table>\n",
       "</div>"
      ],
      "text/plain": [
       "                    TV     Radio  Social_Media     Sales\n",
       "TV            1.000000  0.869460      0.528168  0.999497\n",
       "Radio         0.869460  1.000000      0.607452  0.869105\n",
       "Social_Media  0.528168  0.607452      1.000000  0.528906\n",
       "Sales         0.999497  0.869105      0.528906  1.000000"
      ]
     },
     "execution_count": 7,
     "metadata": {},
     "output_type": "execute_result"
    }
   ],
   "source": [
    "# 상관계수 구하기\n",
    "q2 = data[features].corr()\n",
    "q2"
   ]
  },
  {
   "cell_type": "code",
   "execution_count": 8,
   "id": "6ba9abaa-7732-4cf0-b303-6ce158754680",
   "metadata": {},
   "outputs": [
    {
     "data": {
      "text/html": [
       "<div>\n",
       "<style scoped>\n",
       "    .dataframe tbody tr th:only-of-type {\n",
       "        vertical-align: middle;\n",
       "    }\n",
       "\n",
       "    .dataframe tbody tr th {\n",
       "        vertical-align: top;\n",
       "    }\n",
       "\n",
       "    .dataframe thead th {\n",
       "        text-align: right;\n",
       "    }\n",
       "</style>\n",
       "<table border=\"1\" class=\"dataframe\">\n",
       "  <thead>\n",
       "    <tr style=\"text-align: right;\">\n",
       "      <th></th>\n",
       "      <th>TV</th>\n",
       "      <th>Radio</th>\n",
       "      <th>Social_Media</th>\n",
       "      <th>Sales</th>\n",
       "    </tr>\n",
       "  </thead>\n",
       "  <tbody>\n",
       "    <tr>\n",
       "      <th>TV</th>\n",
       "      <td>1.000000</td>\n",
       "      <td>0.869460</td>\n",
       "      <td>0.528168</td>\n",
       "      <td>0.999497</td>\n",
       "    </tr>\n",
       "    <tr>\n",
       "      <th>Radio</th>\n",
       "      <td>0.869460</td>\n",
       "      <td>1.000000</td>\n",
       "      <td>0.607452</td>\n",
       "      <td>0.869105</td>\n",
       "    </tr>\n",
       "    <tr>\n",
       "      <th>Social_Media</th>\n",
       "      <td>0.528168</td>\n",
       "      <td>0.607452</td>\n",
       "      <td>1.000000</td>\n",
       "      <td>0.528906</td>\n",
       "    </tr>\n",
       "  </tbody>\n",
       "</table>\n",
       "</div>"
      ],
      "text/plain": [
       "                    TV     Radio  Social_Media     Sales\n",
       "TV            1.000000  0.869460      0.528168  0.999497\n",
       "Radio         0.869460  1.000000      0.607452  0.869105\n",
       "Social_Media  0.528168  0.607452      1.000000  0.528906"
      ]
     },
     "execution_count": 8,
     "metadata": {},
     "output_type": "execute_result"
    }
   ],
   "source": [
    "# Sales(y)제외\n",
    "q2.drop('Sales')"
   ]
  },
  {
   "cell_type": "code",
   "execution_count": 9,
   "id": "62298e43-76da-4ff3-b4ef-d1e93707e411",
   "metadata": {},
   "outputs": [
    {
     "data": {
      "text/plain": [
       "TV              0.999497\n",
       "Radio           0.869105\n",
       "Social_Media    0.528906\n",
       "Name: Sales, dtype: float64"
      ]
     },
     "execution_count": 9,
     "metadata": {},
     "output_type": "execute_result"
    }
   ],
   "source": [
    "# Sales(y)제외 + Sales(y)컬럼 기준으로 상관계수 \n",
    "q2.drop('Sales')['Sales']"
   ]
  },
  {
   "cell_type": "code",
   "execution_count": 10,
   "id": "03d0d732-ede3-482d-887c-f74cba6da9ae",
   "metadata": {},
   "outputs": [
    {
     "data": {
      "text/plain": [
       "TV              0.999497\n",
       "Radio           0.869105\n",
       "Social_Media    0.528906\n",
       "Name: Sales, dtype: float64"
      ]
     },
     "execution_count": 10,
     "metadata": {},
     "output_type": "execute_result"
    }
   ],
   "source": [
    "# Sales(y)제외 + Sales(y)컬럼 기준으로 상관계수 + 음수양수 구분없이 절대값 \n",
    "q2.drop('Sales')['Sales'].abs()"
   ]
  },
  {
   "cell_type": "code",
   "execution_count": 11,
   "id": "f5e0ede6-5215-4ae9-a41a-33414fe9adcc",
   "metadata": {},
   "outputs": [
    {
     "data": {
      "text/plain": [
       "0.999497444941335"
      ]
     },
     "execution_count": 11,
     "metadata": {},
     "output_type": "execute_result"
    }
   ],
   "source": [
    "# Sales(y)제외 + Sales(y)컬럼 기준으로 상관계수 + 음수양수 구분없이 절대값 + 가장 큰 수\n",
    "q2.drop('Sales')['Sales'].abs().max()"
   ]
  },
  {
   "cell_type": "markdown",
   "id": "8ae8df06-6a0e-4d56-a167-8773f86d9b6e",
   "metadata": {},
   "source": [
    "**참고**\n",
    "\n",
    "|함수|기능|출력값|\n",
    "|--|--|--|\n",
    "|.max()|최대값|0.9999975128071286|\n",
    "|.min()|최소값|0.7874050943998586|\n",
    "|.nlargest(n)|최상위 n개의 인덱스와 상관계수|TV    0.999998|\n",
    "|.nsmallest(n)|최하위 n개의 인덱스와 상관계수|Radio    0.787405|\n",
    "|.idxmax()|최대값의 인덱스만|'TV'|\n",
    "|.argmax()|최대값의 위치번호만|0|"
   ]
  },
  {
   "cell_type": "code",
   "execution_count": 12,
   "id": "37aaecd2-0e09-492e-a233-fe436d9ada2b",
   "metadata": {},
   "outputs": [
    {
     "data": {
      "text/plain": [
       "0.9995"
      ]
     },
     "execution_count": 12,
     "metadata": {},
     "output_type": "execute_result"
    }
   ],
   "source": [
    "# 소숫점 넷째자리에서 반올림\n",
    "round(q2.drop('Sales')['Sales'].abs().max(), 4)"
   ]
  },
  {
   "cell_type": "code",
   "execution_count": 13,
   "id": "f6054e07-4735-40d8-9b74-0299ead8f7a7",
   "metadata": {},
   "outputs": [
    {
     "name": "stdout",
     "output_type": "stream",
     "text": [
      "매출액에 영향력이 큰 마케팅 채널은 TV이며 상관계수 0.999497입니다.\n",
      "매출액에 영향력이 없는 마케팅 채널은 Social_Media이며 상관계수 0.528906입니다.\n"
     ]
    }
   ],
   "source": [
    "goodmarketing = q2.drop('Sales')['Sales'].abs().nlargest(1)\n",
    "sosomarketing = q2.drop('Sales')['Sales'].abs().nsmallest(1)\n",
    "\n",
    "print(f'매출액에 영향력이 큰 마케팅 채널은 {goodmarketing.index[0]}이며 상관계수 {goodmarketing.values[0]:.6f}입니다.')\n",
    "print(f'매출액에 영향력이 없는 마케팅 채널은 {sosomarketing.index[0]}이며 상관계수 {sosomarketing.values[0]:.6f}입니다.')"
   ]
  },
  {
   "cell_type": "markdown",
   "id": "25f96b96-e3f4-4710-ac73-216845411b0f",
   "metadata": {},
   "source": [
    "### 세 마케팅 채널 예산(x)와 매출액(y)의 회귀분석으로, 독립변수들 중 가장 큰 회귀계수 구하기"
   ]
  },
  {
   "cell_type": "code",
   "execution_count": 14,
   "id": "6582ddac-bb4c-4500-b7f4-deccf0cd654f",
   "metadata": {},
   "outputs": [
    {
     "data": {
      "text/plain": [
       "Index(['TV', 'Radio', 'Social_Media', 'Influencer', 'Sales'], dtype='object')"
      ]
     },
     "execution_count": 14,
     "metadata": {},
     "output_type": "execute_result"
    }
   ],
   "source": [
    "# 변수확인\n",
    "data.columns"
   ]
  },
  {
   "cell_type": "code",
   "execution_count": 15,
   "id": "e50bd732-ec53-412c-90c6-b2e5370c23e5",
   "metadata": {},
   "outputs": [],
   "source": [
    "# 필요 변수 : 상과분석용(y제외)\n",
    "features = ['TV', 'Radio', 'Social_Media']"
   ]
  },
  {
   "cell_type": "code",
   "execution_count": 16,
   "id": "d80d4c74-7556-403e-9fbc-6cd1eccdf8b0",
   "metadata": {},
   "outputs": [],
   "source": [
    "# 결측치 제거 \n",
    "q3 = data.dropna()"
   ]
  },
  {
   "cell_type": "code",
   "execution_count": 17,
   "id": "663a3e84-dafa-49e8-bc95-283a4b311ecd",
   "metadata": {},
   "outputs": [
    {
     "data": {
      "text/plain": [
       "0"
      ]
     },
     "execution_count": 17,
     "metadata": {},
     "output_type": "execute_result"
    }
   ],
   "source": [
    "# 결측치 제거 확인\n",
    "q3.isna().sum().sum()"
   ]
  },
  {
   "cell_type": "code",
   "execution_count": 18,
   "id": "7af53782-5a17-4066-9c2c-4622252f74b6",
   "metadata": {},
   "outputs": [],
   "source": [
    "# 회귀함수 \n",
    "from sklearn.linear_model import LinearRegression"
   ]
  },
  {
   "cell_type": "code",
   "execution_count": 19,
   "id": "78ca0d8e-9604-4984-a508-82f6958edf61",
   "metadata": {},
   "outputs": [
    {
     "data": {
      "text/html": [
       "<style>#sk-container-id-1 {color: black;}#sk-container-id-1 pre{padding: 0;}#sk-container-id-1 div.sk-toggleable {background-color: white;}#sk-container-id-1 label.sk-toggleable__label {cursor: pointer;display: block;width: 100%;margin-bottom: 0;padding: 0.3em;box-sizing: border-box;text-align: center;}#sk-container-id-1 label.sk-toggleable__label-arrow:before {content: \"▸\";float: left;margin-right: 0.25em;color: #696969;}#sk-container-id-1 label.sk-toggleable__label-arrow:hover:before {color: black;}#sk-container-id-1 div.sk-estimator:hover label.sk-toggleable__label-arrow:before {color: black;}#sk-container-id-1 div.sk-toggleable__content {max-height: 0;max-width: 0;overflow: hidden;text-align: left;background-color: #f0f8ff;}#sk-container-id-1 div.sk-toggleable__content pre {margin: 0.2em;color: black;border-radius: 0.25em;background-color: #f0f8ff;}#sk-container-id-1 input.sk-toggleable__control:checked~div.sk-toggleable__content {max-height: 200px;max-width: 100%;overflow: auto;}#sk-container-id-1 input.sk-toggleable__control:checked~label.sk-toggleable__label-arrow:before {content: \"▾\";}#sk-container-id-1 div.sk-estimator input.sk-toggleable__control:checked~label.sk-toggleable__label {background-color: #d4ebff;}#sk-container-id-1 div.sk-label input.sk-toggleable__control:checked~label.sk-toggleable__label {background-color: #d4ebff;}#sk-container-id-1 input.sk-hidden--visually {border: 0;clip: rect(1px 1px 1px 1px);clip: rect(1px, 1px, 1px, 1px);height: 1px;margin: -1px;overflow: hidden;padding: 0;position: absolute;width: 1px;}#sk-container-id-1 div.sk-estimator {font-family: monospace;background-color: #f0f8ff;border: 1px dotted black;border-radius: 0.25em;box-sizing: border-box;margin-bottom: 0.5em;}#sk-container-id-1 div.sk-estimator:hover {background-color: #d4ebff;}#sk-container-id-1 div.sk-parallel-item::after {content: \"\";width: 100%;border-bottom: 1px solid gray;flex-grow: 1;}#sk-container-id-1 div.sk-label:hover label.sk-toggleable__label {background-color: #d4ebff;}#sk-container-id-1 div.sk-serial::before {content: \"\";position: absolute;border-left: 1px solid gray;box-sizing: border-box;top: 0;bottom: 0;left: 50%;z-index: 0;}#sk-container-id-1 div.sk-serial {display: flex;flex-direction: column;align-items: center;background-color: white;padding-right: 0.2em;padding-left: 0.2em;position: relative;}#sk-container-id-1 div.sk-item {position: relative;z-index: 1;}#sk-container-id-1 div.sk-parallel {display: flex;align-items: stretch;justify-content: center;background-color: white;position: relative;}#sk-container-id-1 div.sk-item::before, #sk-container-id-1 div.sk-parallel-item::before {content: \"\";position: absolute;border-left: 1px solid gray;box-sizing: border-box;top: 0;bottom: 0;left: 50%;z-index: -1;}#sk-container-id-1 div.sk-parallel-item {display: flex;flex-direction: column;z-index: 1;position: relative;background-color: white;}#sk-container-id-1 div.sk-parallel-item:first-child::after {align-self: flex-end;width: 50%;}#sk-container-id-1 div.sk-parallel-item:last-child::after {align-self: flex-start;width: 50%;}#sk-container-id-1 div.sk-parallel-item:only-child::after {width: 0;}#sk-container-id-1 div.sk-dashed-wrapped {border: 1px dashed gray;margin: 0 0.4em 0.5em 0.4em;box-sizing: border-box;padding-bottom: 0.4em;background-color: white;}#sk-container-id-1 div.sk-label label {font-family: monospace;font-weight: bold;display: inline-block;line-height: 1.2em;}#sk-container-id-1 div.sk-label-container {text-align: center;}#sk-container-id-1 div.sk-container {/* jupyter's `normalize.less` sets `[hidden] { display: none; }` but bootstrap.min.css set `[hidden] { display: none !important; }` so we also need the `!important` here to be able to override the default hidden behavior on the sphinx rendered scikit-learn.org. See: https://github.com/scikit-learn/scikit-learn/issues/21755 */display: inline-block !important;position: relative;}#sk-container-id-1 div.sk-text-repr-fallback {display: none;}</style><div id=\"sk-container-id-1\" class=\"sk-top-container\"><div class=\"sk-text-repr-fallback\"><pre>LinearRegression()</pre><b>In a Jupyter environment, please rerun this cell to show the HTML representation or trust the notebook. <br />On GitHub, the HTML representation is unable to render, please try loading this page with nbviewer.org.</b></div><div class=\"sk-container\" hidden><div class=\"sk-item\"><div class=\"sk-estimator sk-toggleable\"><input class=\"sk-toggleable__control sk-hidden--visually\" id=\"sk-estimator-id-1\" type=\"checkbox\" checked><label for=\"sk-estimator-id-1\" class=\"sk-toggleable__label sk-toggleable__label-arrow\">LinearRegression</label><div class=\"sk-toggleable__content\"><pre>LinearRegression()</pre></div></div></div></div></div>"
      ],
      "text/plain": [
       "LinearRegression()"
      ]
     },
     "execution_count": 19,
     "metadata": {},
     "output_type": "execute_result"
    }
   ],
   "source": [
    "# 회귀모델\n",
    "model = LinearRegression().fit(q3[features],q3.Sales)\n",
    "model                   "
   ]
  },
  {
   "cell_type": "code",
   "execution_count": 20,
   "id": "fdd99271-6eb5-4885-9bfa-4676828627fa",
   "metadata": {},
   "outputs": [
    {
     "data": {
      "text/plain": [
       "3.5625696271199097"
      ]
     },
     "execution_count": 20,
     "metadata": {},
     "output_type": "execute_result"
    }
   ],
   "source": [
    "# 가장 큰 회귀 계수 \n",
    "model.coef_.max()"
   ]
  },
  {
   "cell_type": "code",
   "execution_count": 24,
   "id": "0da74613-30a1-47b0-8c87-f718568f3918",
   "metadata": {},
   "outputs": [
    {
     "name": "stdout",
     "output_type": "stream",
     "text": [
      "매출액에 가장 큰 영향을 미치는 마케팅 채널은 TV이며, 회귀계수는 3.562570입니다.\n",
      "매출액에 가장 적은 영향을 미치는 마케팅 채널은 Radio이며, 회귀계수는 -0.003970입니다.\n"
     ]
    }
   ],
   "source": [
    "# 가장 큰 회귀계수와 해당 변수 구하기\n",
    "max_coef_index = model.coef_.argmax()\n",
    "max_coef_value = model.coef_.max()\n",
    "max_coef_channel = features[max_coef_index]\n",
    "\n",
    "# 가장 적은 회귀계수와 해당 변수 구하기\n",
    "min_coef_index = model.coef_.argmin()\n",
    "min_coef_value = model.coef_.min()\n",
    "min_coef_channel = features[min_coef_index]\n",
    "\n",
    "# 매출액에 가장 큰 영향력, 가장 작은 영향력을 미치는 마케팅 채널 확인 \n",
    "print(f'매출액에 가장 큰 영향을 미치는 마케팅 채널은 {max_coef_channel}이며, 회귀계수는 {max_coef_value:.6f}입니다.')\n",
    "print(f'매출액에 가장 적은 영향을 미치는 마케팅 채널은 {min_coef_channel}이며, 회귀계수는 {min_coef_value:.6f}입니다.')"
   ]
  }
 ],
 "metadata": {
  "kernelspec": {
   "display_name": "Python 3 (ipykernel)",
   "language": "python",
   "name": "python3"
  },
  "language_info": {
   "codemirror_mode": {
    "name": "ipython",
    "version": 3
   },
   "file_extension": ".py",
   "mimetype": "text/x-python",
   "name": "python",
   "nbconvert_exporter": "python",
   "pygments_lexer": "ipython3",
   "version": "3.10.11"
  }
 },
 "nbformat": 4,
 "nbformat_minor": 5
}
