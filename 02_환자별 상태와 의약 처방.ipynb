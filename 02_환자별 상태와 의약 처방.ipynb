{
 "cells": [
  {
   "cell_type": "markdown",
   "id": "a9deb9c5-3197-4461-806f-42dd6be0cec0",
   "metadata": {},
   "source": [
    "![](https://velog.velcdn.com/images/hyejinbeck/post/9d60c960-912d-48e9-b375-6331e8913065/image.png)\n",
    "\n",
    "\n",
    "![](https://velog.velcdn.com/images/hyejinbeck/post/f3b13344-c1eb-4ea3-9826-78a7d3052a20/image.png)\n",
    "\n",
    "![](https://velog.velcdn.com/images/hyejinbeck/post/23f0c90b-9fb3-44ea-ba49-766898f3a821/image.png)"
   ]
  },
  {
   "cell_type": "code",
   "execution_count": 111,
   "id": "09386502-697a-438a-abce-922ba9e71a91",
   "metadata": {},
   "outputs": [],
   "source": [
    "# 설치 파일\n",
    "!pip freeze > requirements.txt"
   ]
  },
  {
   "cell_type": "code",
   "execution_count": 112,
   "id": "01818457-6fdc-4dc1-aebb-fac22e7136b6",
   "metadata": {},
   "outputs": [],
   "source": [
    "# 필요함수\n",
    "import pandas as pd "
   ]
  },
  {
   "cell_type": "code",
   "execution_count": 113,
   "id": "90fb4888-5283-4291-b5ba-8e9baae6279d",
   "metadata": {},
   "outputs": [
    {
     "data": {
      "text/html": [
       "<div>\n",
       "<style scoped>\n",
       "    .dataframe tbody tr th:only-of-type {\n",
       "        vertical-align: middle;\n",
       "    }\n",
       "\n",
       "    .dataframe tbody tr th {\n",
       "        vertical-align: top;\n",
       "    }\n",
       "\n",
       "    .dataframe thead th {\n",
       "        text-align: right;\n",
       "    }\n",
       "</style>\n",
       "<table border=\"1\" class=\"dataframe\">\n",
       "  <thead>\n",
       "    <tr style=\"text-align: right;\">\n",
       "      <th></th>\n",
       "      <th>Age</th>\n",
       "      <th>Sex</th>\n",
       "      <th>BP</th>\n",
       "      <th>Cholesterol</th>\n",
       "      <th>Na_to_K</th>\n",
       "      <th>Drug</th>\n",
       "    </tr>\n",
       "  </thead>\n",
       "  <tbody>\n",
       "    <tr>\n",
       "      <th>0</th>\n",
       "      <td>23</td>\n",
       "      <td>F</td>\n",
       "      <td>HIGH</td>\n",
       "      <td>HIGH</td>\n",
       "      <td>25.355</td>\n",
       "      <td>DrugY</td>\n",
       "    </tr>\n",
       "    <tr>\n",
       "      <th>1</th>\n",
       "      <td>47</td>\n",
       "      <td>M</td>\n",
       "      <td>LOW</td>\n",
       "      <td>HIGH</td>\n",
       "      <td>13.093</td>\n",
       "      <td>drugC</td>\n",
       "    </tr>\n",
       "    <tr>\n",
       "      <th>2</th>\n",
       "      <td>47</td>\n",
       "      <td>M</td>\n",
       "      <td>LOW</td>\n",
       "      <td>HIGH</td>\n",
       "      <td>10.114</td>\n",
       "      <td>drugC</td>\n",
       "    </tr>\n",
       "    <tr>\n",
       "      <th>3</th>\n",
       "      <td>28</td>\n",
       "      <td>F</td>\n",
       "      <td>NORMAL</td>\n",
       "      <td>HIGH</td>\n",
       "      <td>7.798</td>\n",
       "      <td>drugX</td>\n",
       "    </tr>\n",
       "    <tr>\n",
       "      <th>4</th>\n",
       "      <td>61</td>\n",
       "      <td>F</td>\n",
       "      <td>LOW</td>\n",
       "      <td>HIGH</td>\n",
       "      <td>18.043</td>\n",
       "      <td>DrugY</td>\n",
       "    </tr>\n",
       "  </tbody>\n",
       "</table>\n",
       "</div>"
      ],
      "text/plain": [
       "   Age Sex      BP Cholesterol  Na_to_K   Drug\n",
       "0   23   F    HIGH        HIGH   25.355  DrugY\n",
       "1   47   M     LOW        HIGH   13.093  drugC\n",
       "2   47   M     LOW        HIGH   10.114  drugC\n",
       "3   28   F  NORMAL        HIGH    7.798  drugX\n",
       "4   61   F     LOW        HIGH   18.043  DrugY"
      ]
     },
     "execution_count": 113,
     "metadata": {},
     "output_type": "execute_result"
    }
   ],
   "source": [
    "# 불러오기\n",
    "data = pd.read_csv('./Dataset/Dataset_02.csv')\n",
    "data.head()"
   ]
  },
  {
   "cell_type": "code",
   "execution_count": 114,
   "id": "69077b0c-feae-4638-8577-3c16ba1a5d76",
   "metadata": {},
   "outputs": [
    {
     "name": "stdout",
     "output_type": "stream",
     "text": [
      "<class 'pandas.core.frame.DataFrame'>\n",
      "RangeIndex: 200 entries, 0 to 199\n",
      "Data columns (total 6 columns):\n",
      " #   Column       Non-Null Count  Dtype  \n",
      "---  ------       --------------  -----  \n",
      " 0   Age          200 non-null    int64  \n",
      " 1   Sex          200 non-null    object \n",
      " 2   BP           200 non-null    object \n",
      " 3   Cholesterol  200 non-null    object \n",
      " 4   Na_to_K      200 non-null    float64\n",
      " 5   Drug         200 non-null    object \n",
      "dtypes: float64(1), int64(1), object(4)\n",
      "memory usage: 9.5+ KB\n"
     ]
    }
   ],
   "source": [
    "# 데이터 확인 \n",
    "data.info()"
   ]
  },
  {
   "cell_type": "markdown",
   "id": "fe85ae84-f0f7-42cd-8eaa-7eaf97f24b26",
   "metadata": {},
   "source": [
    "# 부합조건 찾기"
   ]
  },
  {
   "cell_type": "code",
   "execution_count": 115,
   "id": "f721803a-768d-475a-85f0-b27d31c40673",
   "metadata": {},
   "outputs": [
    {
     "data": {
      "text/plain": [
       "Index(['Age', 'Sex', 'BP', 'Cholesterol', 'Na_to_K', 'Drug'], dtype='object')"
      ]
     },
     "execution_count": 115,
     "metadata": {},
     "output_type": "execute_result"
    }
   ],
   "source": [
    "# 컬럼확인\n",
    "data.columns"
   ]
  },
  {
   "cell_type": "code",
   "execution_count": 116,
   "id": "67f55122-c946-477b-9fbf-8cd28ae95992",
   "metadata": {},
   "outputs": [
    {
     "data": {
      "text/plain": [
       "array(['F', 'M'], dtype=object)"
      ]
     },
     "execution_count": 116,
     "metadata": {},
     "output_type": "execute_result"
    }
   ],
   "source": [
    "# 환자 조건1 : 여자\n",
    "data['Sex'].unique()"
   ]
  },
  {
   "cell_type": "code",
   "execution_count": 117,
   "id": "fbf17167-2fac-4bda-bd61-30c1e20b0ad4",
   "metadata": {},
   "outputs": [
    {
     "data": {
      "text/plain": [
       "array(['HIGH', 'LOW', 'NORMAL'], dtype=object)"
      ]
     },
     "execution_count": 117,
     "metadata": {},
     "output_type": "execute_result"
    }
   ],
   "source": [
    "# 환자 조건2 : 혈압 High\n",
    "data['BP'].unique()"
   ]
  },
  {
   "cell_type": "code",
   "execution_count": 118,
   "id": "e53e1659-de57-4c82-b9a9-1ca483497253",
   "metadata": {},
   "outputs": [
    {
     "data": {
      "text/plain": [
       "array(['HIGH', 'NORMAL'], dtype=object)"
      ]
     },
     "execution_count": 118,
     "metadata": {},
     "output_type": "execute_result"
    }
   ],
   "source": [
    "# 환자 조건3 : 콜레스테롤 Normal\n",
    "data['Cholesterol'].unique()"
   ]
  },
  {
   "cell_type": "code",
   "execution_count": 119,
   "id": "aec44b04-9b1b-4a7c-98d2-2549dcf483d4",
   "metadata": {},
   "outputs": [
    {
     "data": {
      "text/html": [
       "<div>\n",
       "<style scoped>\n",
       "    .dataframe tbody tr th:only-of-type {\n",
       "        vertical-align: middle;\n",
       "    }\n",
       "\n",
       "    .dataframe tbody tr th {\n",
       "        vertical-align: top;\n",
       "    }\n",
       "\n",
       "    .dataframe thead th {\n",
       "        text-align: right;\n",
       "    }\n",
       "</style>\n",
       "<table border=\"1\" class=\"dataframe\">\n",
       "  <thead>\n",
       "    <tr style=\"text-align: right;\">\n",
       "      <th>Cholesterol</th>\n",
       "      <th>HIGH</th>\n",
       "      <th>NORMAL</th>\n",
       "    </tr>\n",
       "    <tr>\n",
       "      <th>Sex</th>\n",
       "      <th></th>\n",
       "      <th></th>\n",
       "    </tr>\n",
       "  </thead>\n",
       "  <tbody>\n",
       "    <tr>\n",
       "      <th>F</th>\n",
       "      <td>49</td>\n",
       "      <td>47</td>\n",
       "    </tr>\n",
       "    <tr>\n",
       "      <th>M</th>\n",
       "      <td>54</td>\n",
       "      <td>50</td>\n",
       "    </tr>\n",
       "  </tbody>\n",
       "</table>\n",
       "</div>"
      ],
      "text/plain": [
       "Cholesterol  HIGH  NORMAL\n",
       "Sex                      \n",
       "F              49      47\n",
       "M              54      50"
      ]
     },
     "execution_count": 119,
     "metadata": {},
     "output_type": "execute_result"
    }
   ],
   "source": [
    "# 조건(성별,콜레스테롤) 걸어서 확인\n",
    "pd.crosstab(\n",
    "    index=[data.Sex],              # 성별\n",
    "    columns = data.Cholesterol     # 콜레스테롤\n",
    ")"
   ]
  },
  {
   "cell_type": "code",
   "execution_count": 120,
   "id": "df94f0c9-5529-4a50-b530-bdc69cfbd91e",
   "metadata": {},
   "outputs": [
    {
     "data": {
      "text/html": [
       "<div>\n",
       "<style scoped>\n",
       "    .dataframe tbody tr th:only-of-type {\n",
       "        vertical-align: middle;\n",
       "    }\n",
       "\n",
       "    .dataframe tbody tr th {\n",
       "        vertical-align: top;\n",
       "    }\n",
       "\n",
       "    .dataframe thead th {\n",
       "        text-align: right;\n",
       "    }\n",
       "</style>\n",
       "<table border=\"1\" class=\"dataframe\">\n",
       "  <thead>\n",
       "    <tr style=\"text-align: right;\">\n",
       "      <th></th>\n",
       "      <th>Cholesterol</th>\n",
       "      <th>HIGH</th>\n",
       "      <th>NORMAL</th>\n",
       "    </tr>\n",
       "    <tr>\n",
       "      <th>Sex</th>\n",
       "      <th>BP</th>\n",
       "      <th></th>\n",
       "      <th></th>\n",
       "    </tr>\n",
       "  </thead>\n",
       "  <tbody>\n",
       "    <tr>\n",
       "      <th rowspan=\"3\" valign=\"top\">F</th>\n",
       "      <th>HIGH</th>\n",
       "      <td>17</td>\n",
       "      <td>21</td>\n",
       "    </tr>\n",
       "    <tr>\n",
       "      <th>LOW</th>\n",
       "      <td>14</td>\n",
       "      <td>14</td>\n",
       "    </tr>\n",
       "    <tr>\n",
       "      <th>NORMAL</th>\n",
       "      <td>18</td>\n",
       "      <td>12</td>\n",
       "    </tr>\n",
       "    <tr>\n",
       "      <th rowspan=\"3\" valign=\"top\">M</th>\n",
       "      <th>HIGH</th>\n",
       "      <td>18</td>\n",
       "      <td>21</td>\n",
       "    </tr>\n",
       "    <tr>\n",
       "      <th>LOW</th>\n",
       "      <td>17</td>\n",
       "      <td>19</td>\n",
       "    </tr>\n",
       "    <tr>\n",
       "      <th>NORMAL</th>\n",
       "      <td>19</td>\n",
       "      <td>10</td>\n",
       "    </tr>\n",
       "  </tbody>\n",
       "</table>\n",
       "</div>"
      ],
      "text/plain": [
       "Cholesterol  HIGH  NORMAL\n",
       "Sex BP                   \n",
       "F   HIGH       17      21\n",
       "    LOW        14      14\n",
       "    NORMAL     18      12\n",
       "M   HIGH       18      21\n",
       "    LOW        17      19\n",
       "    NORMAL     19      10"
      ]
     },
     "execution_count": 120,
     "metadata": {},
     "output_type": "execute_result"
    }
   ],
   "source": [
    "# 조건(성별+혈압,콜레스테롤) 걸어서 확인\n",
    "pd.crosstab(\n",
    "    index=[data.Sex,  data.BP],   # 성별 + 혈압\n",
    "    columns = data.Cholesterol,   # 콜레스테롤 \n",
    ")"
   ]
  },
  {
   "cell_type": "code",
   "execution_count": 121,
   "id": "00aa9404-b965-4840-97e4-18be589004ba",
   "metadata": {},
   "outputs": [
    {
     "data": {
      "text/html": [
       "<div>\n",
       "<style scoped>\n",
       "    .dataframe tbody tr th:only-of-type {\n",
       "        vertical-align: middle;\n",
       "    }\n",
       "\n",
       "    .dataframe tbody tr th {\n",
       "        vertical-align: top;\n",
       "    }\n",
       "\n",
       "    .dataframe thead th {\n",
       "        text-align: right;\n",
       "    }\n",
       "</style>\n",
       "<table border=\"1\" class=\"dataframe\">\n",
       "  <thead>\n",
       "    <tr style=\"text-align: right;\">\n",
       "      <th></th>\n",
       "      <th>Cholesterol</th>\n",
       "      <th>HIGH</th>\n",
       "      <th>NORMAL</th>\n",
       "    </tr>\n",
       "    <tr>\n",
       "      <th>Sex</th>\n",
       "      <th>BP</th>\n",
       "      <th></th>\n",
       "      <th></th>\n",
       "    </tr>\n",
       "  </thead>\n",
       "  <tbody>\n",
       "    <tr>\n",
       "      <th rowspan=\"3\" valign=\"top\">F</th>\n",
       "      <th>HIGH</th>\n",
       "      <td>0.085</td>\n",
       "      <td>0.105</td>\n",
       "    </tr>\n",
       "    <tr>\n",
       "      <th>LOW</th>\n",
       "      <td>0.070</td>\n",
       "      <td>0.070</td>\n",
       "    </tr>\n",
       "    <tr>\n",
       "      <th>NORMAL</th>\n",
       "      <td>0.090</td>\n",
       "      <td>0.060</td>\n",
       "    </tr>\n",
       "    <tr>\n",
       "      <th rowspan=\"3\" valign=\"top\">M</th>\n",
       "      <th>HIGH</th>\n",
       "      <td>0.090</td>\n",
       "      <td>0.105</td>\n",
       "    </tr>\n",
       "    <tr>\n",
       "      <th>LOW</th>\n",
       "      <td>0.085</td>\n",
       "      <td>0.095</td>\n",
       "    </tr>\n",
       "    <tr>\n",
       "      <th>NORMAL</th>\n",
       "      <td>0.095</td>\n",
       "      <td>0.050</td>\n",
       "    </tr>\n",
       "  </tbody>\n",
       "</table>\n",
       "</div>"
      ],
      "text/plain": [
       "Cholesterol   HIGH  NORMAL\n",
       "Sex BP                    \n",
       "F   HIGH     0.085   0.105\n",
       "    LOW      0.070   0.070\n",
       "    NORMAL   0.090   0.060\n",
       "M   HIGH     0.090   0.105\n",
       "    LOW      0.085   0.095\n",
       "    NORMAL   0.095   0.050"
      ]
     },
     "execution_count": 121,
     "metadata": {},
     "output_type": "execute_result"
    }
   ],
   "source": [
    "# 조건(성별+혈압,콜레스테롤)\b의 각 비율(빈도)\n",
    "pd.crosstab(\n",
    "    index=[data.Sex,  data.BP],   # 성별 + 혈압\n",
    "    columns = data.Cholesterol,   # 콜레스테롤 \n",
    "    normalize=True,\n",
    ")"
   ]
  },
  {
   "cell_type": "code",
   "execution_count": 122,
   "id": "2f502fb8-9d8d-4582-adbd-7c582e2ddd26",
   "metadata": {},
   "outputs": [
    {
     "data": {
      "text/plain": [
       "0.105"
      ]
     },
     "execution_count": 122,
     "metadata": {},
     "output_type": "execute_result"
    }
   ],
   "source": [
    "# 조건 부합되는 특정값 추출 \n",
    "q1=\\\n",
    "pd.crosstab(\n",
    "    index=[data.Sex,  data.BP],   # 성별 + 혈압\n",
    "    columns = data.Cholesterol,   # 콜레스테롤 \n",
    "    normalize=True,\n",
    ")\n",
    "\n",
    "q1.loc[('F', 'HIGH'), 'NORMAL']"
   ]
  },
  {
   "cell_type": "markdown",
   "id": "7ad99c87-85f7-435f-baf1-57727cf3a62f",
   "metadata": {},
   "source": [
    "#  변수생성(수치형->범주형)"
   ]
  },
  {
   "cell_type": "code",
   "execution_count": 123,
   "id": "166944cc-d4ca-434f-90ed-ef58b9d5f2cc",
   "metadata": {},
   "outputs": [],
   "source": [
    "# 기존데이터 복사\n",
    "q2 = data.copy()"
   ]
  },
  {
   "cell_type": "code",
   "execution_count": 124,
   "id": "04be9315-8cb0-43fb-ac9b-edb47576210a",
   "metadata": {},
   "outputs": [
    {
     "data": {
      "text/html": [
       "<div>\n",
       "<style scoped>\n",
       "    .dataframe tbody tr th:only-of-type {\n",
       "        vertical-align: middle;\n",
       "    }\n",
       "\n",
       "    .dataframe tbody tr th {\n",
       "        vertical-align: top;\n",
       "    }\n",
       "\n",
       "    .dataframe thead th {\n",
       "        text-align: right;\n",
       "    }\n",
       "</style>\n",
       "<table border=\"1\" class=\"dataframe\">\n",
       "  <thead>\n",
       "    <tr style=\"text-align: right;\">\n",
       "      <th></th>\n",
       "      <th>Age</th>\n",
       "      <th>Sex</th>\n",
       "      <th>BP</th>\n",
       "      <th>Cholesterol</th>\n",
       "      <th>Na_to_K</th>\n",
       "      <th>Drug</th>\n",
       "    </tr>\n",
       "  </thead>\n",
       "  <tbody>\n",
       "    <tr>\n",
       "      <th>0</th>\n",
       "      <td>23</td>\n",
       "      <td>F</td>\n",
       "      <td>HIGH</td>\n",
       "      <td>HIGH</td>\n",
       "      <td>25.355</td>\n",
       "      <td>DrugY</td>\n",
       "    </tr>\n",
       "    <tr>\n",
       "      <th>1</th>\n",
       "      <td>47</td>\n",
       "      <td>M</td>\n",
       "      <td>LOW</td>\n",
       "      <td>HIGH</td>\n",
       "      <td>13.093</td>\n",
       "      <td>drugC</td>\n",
       "    </tr>\n",
       "    <tr>\n",
       "      <th>2</th>\n",
       "      <td>47</td>\n",
       "      <td>M</td>\n",
       "      <td>LOW</td>\n",
       "      <td>HIGH</td>\n",
       "      <td>10.114</td>\n",
       "      <td>drugC</td>\n",
       "    </tr>\n",
       "    <tr>\n",
       "      <th>3</th>\n",
       "      <td>28</td>\n",
       "      <td>F</td>\n",
       "      <td>NORMAL</td>\n",
       "      <td>HIGH</td>\n",
       "      <td>7.798</td>\n",
       "      <td>drugX</td>\n",
       "    </tr>\n",
       "    <tr>\n",
       "      <th>4</th>\n",
       "      <td>61</td>\n",
       "      <td>F</td>\n",
       "      <td>LOW</td>\n",
       "      <td>HIGH</td>\n",
       "      <td>18.043</td>\n",
       "      <td>DrugY</td>\n",
       "    </tr>\n",
       "  </tbody>\n",
       "</table>\n",
       "</div>"
      ],
      "text/plain": [
       "   Age Sex      BP Cholesterol  Na_to_K   Drug\n",
       "0   23   F    HIGH        HIGH   25.355  DrugY\n",
       "1   47   M     LOW        HIGH   13.093  drugC\n",
       "2   47   M     LOW        HIGH   10.114  drugC\n",
       "3   28   F  NORMAL        HIGH    7.798  drugX\n",
       "4   61   F     LOW        HIGH   18.043  DrugY"
      ]
     },
     "execution_count": 124,
     "metadata": {},
     "output_type": "execute_result"
    }
   ],
   "source": [
    "q2.head()"
   ]
  },
  {
   "cell_type": "code",
   "execution_count": 125,
   "id": "6389cc4c-6961-4b43-8c9d-6e0a6e78da5c",
   "metadata": {},
   "outputs": [
    {
     "data": {
      "text/plain": [
       "count    200.000000\n",
       "mean      44.315000\n",
       "std       16.544315\n",
       "min       15.000000\n",
       "25%       31.000000\n",
       "50%       45.000000\n",
       "75%       58.000000\n",
       "max       74.000000\n",
       "Name: Age, dtype: float64"
      ]
     },
     "execution_count": 125,
     "metadata": {},
     "output_type": "execute_result"
    }
   ],
   "source": [
    "# 나이 Age (수치형) 컬럼 확인\n",
    "q2['Age'].describe()"
   ]
  },
  {
   "cell_type": "code",
   "execution_count": 126,
   "id": "4ac70244-a114-478c-a258-d7cb1289ba53",
   "metadata": {},
   "outputs": [
    {
     "data": {
      "text/plain": [
       "count    200.000000\n",
       "mean      16.084485\n",
       "std        7.223956\n",
       "min        6.269000\n",
       "25%       10.445500\n",
       "50%       13.936500\n",
       "75%       19.380000\n",
       "max       38.247000\n",
       "Name: Na_to_K, dtype: float64"
      ]
     },
     "execution_count": 126,
     "metadata": {},
     "output_type": "execute_result"
    }
   ],
   "source": [
    "# 칼륨대비나트륨비율 Na_to_K (수치형) 컬럼 확인\n",
    "q2['Na_to_K'].describe()"
   ]
  },
  {
   "cell_type": "code",
   "execution_count": 127,
   "id": "43e64096-8b08-4416-8ea7-4c240b84509a",
   "metadata": {},
   "outputs": [],
   "source": [
    "# 컬럼생성np위한 함수\n",
    "import numpy as np"
   ]
  },
  {
   "cell_type": "code",
   "execution_count": 128,
   "id": "d106dcd5-3bb6-4cbb-9853-14babd0ab3f8",
   "metadata": {},
   "outputs": [
    {
     "data": {
      "text/html": [
       "<div>\n",
       "<style scoped>\n",
       "    .dataframe tbody tr th:only-of-type {\n",
       "        vertical-align: middle;\n",
       "    }\n",
       "\n",
       "    .dataframe tbody tr th {\n",
       "        vertical-align: top;\n",
       "    }\n",
       "\n",
       "    .dataframe thead th {\n",
       "        text-align: right;\n",
       "    }\n",
       "</style>\n",
       "<table border=\"1\" class=\"dataframe\">\n",
       "  <thead>\n",
       "    <tr style=\"text-align: right;\">\n",
       "      <th></th>\n",
       "      <th>Age</th>\n",
       "      <th>Sex</th>\n",
       "      <th>BP</th>\n",
       "      <th>Cholesterol</th>\n",
       "      <th>Na_to_K</th>\n",
       "      <th>Drug</th>\n",
       "      <th>Age_gr</th>\n",
       "    </tr>\n",
       "  </thead>\n",
       "  <tbody>\n",
       "    <tr>\n",
       "      <th>0</th>\n",
       "      <td>23</td>\n",
       "      <td>F</td>\n",
       "      <td>HIGH</td>\n",
       "      <td>HIGH</td>\n",
       "      <td>25.355</td>\n",
       "      <td>DrugY</td>\n",
       "      <td>20</td>\n",
       "    </tr>\n",
       "    <tr>\n",
       "      <th>1</th>\n",
       "      <td>47</td>\n",
       "      <td>M</td>\n",
       "      <td>LOW</td>\n",
       "      <td>HIGH</td>\n",
       "      <td>13.093</td>\n",
       "      <td>drugC</td>\n",
       "      <td>40</td>\n",
       "    </tr>\n",
       "    <tr>\n",
       "      <th>2</th>\n",
       "      <td>47</td>\n",
       "      <td>M</td>\n",
       "      <td>LOW</td>\n",
       "      <td>HIGH</td>\n",
       "      <td>10.114</td>\n",
       "      <td>drugC</td>\n",
       "      <td>40</td>\n",
       "    </tr>\n",
       "    <tr>\n",
       "      <th>3</th>\n",
       "      <td>28</td>\n",
       "      <td>F</td>\n",
       "      <td>NORMAL</td>\n",
       "      <td>HIGH</td>\n",
       "      <td>7.798</td>\n",
       "      <td>drugX</td>\n",
       "      <td>20</td>\n",
       "    </tr>\n",
       "    <tr>\n",
       "      <th>4</th>\n",
       "      <td>61</td>\n",
       "      <td>F</td>\n",
       "      <td>LOW</td>\n",
       "      <td>HIGH</td>\n",
       "      <td>18.043</td>\n",
       "      <td>DrugY</td>\n",
       "      <td>60</td>\n",
       "    </tr>\n",
       "    <tr>\n",
       "      <th>...</th>\n",
       "      <td>...</td>\n",
       "      <td>...</td>\n",
       "      <td>...</td>\n",
       "      <td>...</td>\n",
       "      <td>...</td>\n",
       "      <td>...</td>\n",
       "      <td>...</td>\n",
       "    </tr>\n",
       "    <tr>\n",
       "      <th>195</th>\n",
       "      <td>56</td>\n",
       "      <td>F</td>\n",
       "      <td>LOW</td>\n",
       "      <td>HIGH</td>\n",
       "      <td>11.567</td>\n",
       "      <td>drugC</td>\n",
       "      <td>50</td>\n",
       "    </tr>\n",
       "    <tr>\n",
       "      <th>196</th>\n",
       "      <td>16</td>\n",
       "      <td>M</td>\n",
       "      <td>LOW</td>\n",
       "      <td>HIGH</td>\n",
       "      <td>12.006</td>\n",
       "      <td>drugC</td>\n",
       "      <td>10</td>\n",
       "    </tr>\n",
       "    <tr>\n",
       "      <th>197</th>\n",
       "      <td>52</td>\n",
       "      <td>M</td>\n",
       "      <td>NORMAL</td>\n",
       "      <td>HIGH</td>\n",
       "      <td>9.894</td>\n",
       "      <td>drugX</td>\n",
       "      <td>50</td>\n",
       "    </tr>\n",
       "    <tr>\n",
       "      <th>198</th>\n",
       "      <td>23</td>\n",
       "      <td>M</td>\n",
       "      <td>NORMAL</td>\n",
       "      <td>NORMAL</td>\n",
       "      <td>14.020</td>\n",
       "      <td>drugX</td>\n",
       "      <td>20</td>\n",
       "    </tr>\n",
       "    <tr>\n",
       "      <th>199</th>\n",
       "      <td>40</td>\n",
       "      <td>F</td>\n",
       "      <td>LOW</td>\n",
       "      <td>NORMAL</td>\n",
       "      <td>11.349</td>\n",
       "      <td>drugX</td>\n",
       "      <td>40</td>\n",
       "    </tr>\n",
       "  </tbody>\n",
       "</table>\n",
       "<p>200 rows × 7 columns</p>\n",
       "</div>"
      ],
      "text/plain": [
       "     Age Sex      BP Cholesterol  Na_to_K   Drug  Age_gr\n",
       "0     23   F    HIGH        HIGH   25.355  DrugY      20\n",
       "1     47   M     LOW        HIGH   13.093  drugC      40\n",
       "2     47   M     LOW        HIGH   10.114  drugC      40\n",
       "3     28   F  NORMAL        HIGH    7.798  drugX      20\n",
       "4     61   F     LOW        HIGH   18.043  DrugY      60\n",
       "..   ...  ..     ...         ...      ...    ...     ...\n",
       "195   56   F     LOW        HIGH   11.567  drugC      50\n",
       "196   16   M     LOW        HIGH   12.006  drugC      10\n",
       "197   52   M  NORMAL        HIGH    9.894  drugX      50\n",
       "198   23   M  NORMAL      NORMAL   14.020  drugX      20\n",
       "199   40   F     LOW      NORMAL   11.349  drugX      40\n",
       "\n",
       "[200 rows x 7 columns]"
      ]
     },
     "execution_count": 128,
     "metadata": {},
     "output_type": "execute_result"
    }
   ],
   "source": [
    "# 나이 Age 관련 컬럼 생성 (수치형 --> 범주형 )\n",
    "\n",
    "q2['Age_gr'] = np.where(q2.Age < 20 , 10 ,           # Age가 20미만이면 10, 아니면 \n",
    "                        np.where(q2.Age < 30 , 20 , \n",
    "                                 np.where(q2.Age < 40 , 30 , \n",
    "                                          np.where(q2.Age < 50 , 40 ,\n",
    "                                                   np.where(q2.Age < 60 , 50 , \n",
    "                                                            60   )))))\n",
    "q2"
   ]
  },
  {
   "cell_type": "code",
   "execution_count": 129,
   "id": "48bcf30d-7082-4fa9-9b2f-c5c34fa428c1",
   "metadata": {},
   "outputs": [
    {
     "data": {
      "text/html": [
       "<div>\n",
       "<style scoped>\n",
       "    .dataframe tbody tr th:only-of-type {\n",
       "        vertical-align: middle;\n",
       "    }\n",
       "\n",
       "    .dataframe tbody tr th {\n",
       "        vertical-align: top;\n",
       "    }\n",
       "\n",
       "    .dataframe thead th {\n",
       "        text-align: right;\n",
       "    }\n",
       "</style>\n",
       "<table border=\"1\" class=\"dataframe\">\n",
       "  <thead>\n",
       "    <tr style=\"text-align: right;\">\n",
       "      <th></th>\n",
       "      <th>Age</th>\n",
       "      <th>Sex</th>\n",
       "      <th>BP</th>\n",
       "      <th>Cholesterol</th>\n",
       "      <th>Na_to_K</th>\n",
       "      <th>Drug</th>\n",
       "      <th>Age_gr</th>\n",
       "      <th>Na_K_gr</th>\n",
       "    </tr>\n",
       "  </thead>\n",
       "  <tbody>\n",
       "    <tr>\n",
       "      <th>0</th>\n",
       "      <td>23</td>\n",
       "      <td>F</td>\n",
       "      <td>HIGH</td>\n",
       "      <td>HIGH</td>\n",
       "      <td>25.355</td>\n",
       "      <td>DrugY</td>\n",
       "      <td>20</td>\n",
       "      <td>Lv3</td>\n",
       "    </tr>\n",
       "    <tr>\n",
       "      <th>1</th>\n",
       "      <td>47</td>\n",
       "      <td>M</td>\n",
       "      <td>LOW</td>\n",
       "      <td>HIGH</td>\n",
       "      <td>13.093</td>\n",
       "      <td>drugC</td>\n",
       "      <td>40</td>\n",
       "      <td>Lv2</td>\n",
       "    </tr>\n",
       "    <tr>\n",
       "      <th>2</th>\n",
       "      <td>47</td>\n",
       "      <td>M</td>\n",
       "      <td>LOW</td>\n",
       "      <td>HIGH</td>\n",
       "      <td>10.114</td>\n",
       "      <td>drugC</td>\n",
       "      <td>40</td>\n",
       "      <td>Lv2</td>\n",
       "    </tr>\n",
       "    <tr>\n",
       "      <th>3</th>\n",
       "      <td>28</td>\n",
       "      <td>F</td>\n",
       "      <td>NORMAL</td>\n",
       "      <td>HIGH</td>\n",
       "      <td>7.798</td>\n",
       "      <td>drugX</td>\n",
       "      <td>20</td>\n",
       "      <td>Lv1</td>\n",
       "    </tr>\n",
       "    <tr>\n",
       "      <th>4</th>\n",
       "      <td>61</td>\n",
       "      <td>F</td>\n",
       "      <td>LOW</td>\n",
       "      <td>HIGH</td>\n",
       "      <td>18.043</td>\n",
       "      <td>DrugY</td>\n",
       "      <td>60</td>\n",
       "      <td>Lv2</td>\n",
       "    </tr>\n",
       "    <tr>\n",
       "      <th>...</th>\n",
       "      <td>...</td>\n",
       "      <td>...</td>\n",
       "      <td>...</td>\n",
       "      <td>...</td>\n",
       "      <td>...</td>\n",
       "      <td>...</td>\n",
       "      <td>...</td>\n",
       "      <td>...</td>\n",
       "    </tr>\n",
       "    <tr>\n",
       "      <th>195</th>\n",
       "      <td>56</td>\n",
       "      <td>F</td>\n",
       "      <td>LOW</td>\n",
       "      <td>HIGH</td>\n",
       "      <td>11.567</td>\n",
       "      <td>drugC</td>\n",
       "      <td>50</td>\n",
       "      <td>Lv2</td>\n",
       "    </tr>\n",
       "    <tr>\n",
       "      <th>196</th>\n",
       "      <td>16</td>\n",
       "      <td>M</td>\n",
       "      <td>LOW</td>\n",
       "      <td>HIGH</td>\n",
       "      <td>12.006</td>\n",
       "      <td>drugC</td>\n",
       "      <td>10</td>\n",
       "      <td>Lv2</td>\n",
       "    </tr>\n",
       "    <tr>\n",
       "      <th>197</th>\n",
       "      <td>52</td>\n",
       "      <td>M</td>\n",
       "      <td>NORMAL</td>\n",
       "      <td>HIGH</td>\n",
       "      <td>9.894</td>\n",
       "      <td>drugX</td>\n",
       "      <td>50</td>\n",
       "      <td>Lv1</td>\n",
       "    </tr>\n",
       "    <tr>\n",
       "      <th>198</th>\n",
       "      <td>23</td>\n",
       "      <td>M</td>\n",
       "      <td>NORMAL</td>\n",
       "      <td>NORMAL</td>\n",
       "      <td>14.020</td>\n",
       "      <td>drugX</td>\n",
       "      <td>20</td>\n",
       "      <td>Lv2</td>\n",
       "    </tr>\n",
       "    <tr>\n",
       "      <th>199</th>\n",
       "      <td>40</td>\n",
       "      <td>F</td>\n",
       "      <td>LOW</td>\n",
       "      <td>NORMAL</td>\n",
       "      <td>11.349</td>\n",
       "      <td>drugX</td>\n",
       "      <td>40</td>\n",
       "      <td>Lv2</td>\n",
       "    </tr>\n",
       "  </tbody>\n",
       "</table>\n",
       "<p>200 rows × 8 columns</p>\n",
       "</div>"
      ],
      "text/plain": [
       "     Age Sex      BP Cholesterol  Na_to_K   Drug  Age_gr Na_K_gr\n",
       "0     23   F    HIGH        HIGH   25.355  DrugY      20     Lv3\n",
       "1     47   M     LOW        HIGH   13.093  drugC      40     Lv2\n",
       "2     47   M     LOW        HIGH   10.114  drugC      40     Lv2\n",
       "3     28   F  NORMAL        HIGH    7.798  drugX      20     Lv1\n",
       "4     61   F     LOW        HIGH   18.043  DrugY      60     Lv2\n",
       "..   ...  ..     ...         ...      ...    ...     ...     ...\n",
       "195   56   F     LOW        HIGH   11.567  drugC      50     Lv2\n",
       "196   16   M     LOW        HIGH   12.006  drugC      10     Lv2\n",
       "197   52   M  NORMAL        HIGH    9.894  drugX      50     Lv1\n",
       "198   23   M  NORMAL      NORMAL   14.020  drugX      20     Lv2\n",
       "199   40   F     LOW      NORMAL   11.349  drugX      40     Lv2\n",
       "\n",
       "[200 rows x 8 columns]"
      ]
     },
     "execution_count": 129,
     "metadata": {},
     "output_type": "execute_result"
    }
   ],
   "source": [
    "# 칼륨대비나트륨비율 Na_to_K 관련 컬럼 생성 (수치형 --> 범주형 )\n",
    "\n",
    "q2['Na_K_gr'] = np.where(q2.Na_to_K <= 10 , 'Lv1',           # Na_to_k가 10이하면 'Lv1'로 \n",
    "                        np.where(q2.Na_to_K <= 20 , 'Lv2', \n",
    "                                 np.where(q2.Na_to_K <= 30 , 'Lv3',\n",
    "                                          'Lv4' )))\n",
    "q2"
   ]
  },
  {
   "cell_type": "markdown",
   "id": "f3c9c20e-6a59-450b-b631-7dc5b002d68a",
   "metadata": {},
   "source": [
    "# 독립성 검정 (샘플용으로 하나만)\n",
    "\n",
    "```\n",
    "문자형String 타입의 독립성 검정 == 카이스퀘어\n",
    "```"
   ]
  },
  {
   "cell_type": "code",
   "execution_count": 130,
   "id": "05352195-ca72-4eb3-8e30-3a16637591fd",
   "metadata": {},
   "outputs": [
    {
     "name": "stdout",
     "output_type": "stream",
     "text": [
      "Requirement already satisfied: pip in /Users/beckhyejin/.pyenv/versions/3.11.4/lib/python3.11/site-packages (23.3.1)\n"
     ]
    }
   ],
   "source": [
    "# 카이스퀘어 환경 다운받기 \n",
    "# !pip install scipy\n",
    "!pip install --upgrade pip"
   ]
  },
  {
   "cell_type": "code",
   "execution_count": 131,
   "id": "98de9abc-b9d1-4fb5-8e7b-6695fa6bc073",
   "metadata": {},
   "outputs": [],
   "source": [
    "# 카이스퀘어 함수\n",
    "from scipy.stats import chi2_contingency"
   ]
  },
  {
   "cell_type": "code",
   "execution_count": 132,
   "id": "d3871baf-088a-405c-9106-694b81030ada",
   "metadata": {},
   "outputs": [
    {
     "data": {
      "text/html": [
       "<div>\n",
       "<style scoped>\n",
       "    .dataframe tbody tr th:only-of-type {\n",
       "        vertical-align: middle;\n",
       "    }\n",
       "\n",
       "    .dataframe tbody tr th {\n",
       "        vertical-align: top;\n",
       "    }\n",
       "\n",
       "    .dataframe thead th {\n",
       "        text-align: right;\n",
       "    }\n",
       "</style>\n",
       "<table border=\"1\" class=\"dataframe\">\n",
       "  <thead>\n",
       "    <tr style=\"text-align: right;\">\n",
       "      <th>Drug</th>\n",
       "      <th>DrugY</th>\n",
       "      <th>drugA</th>\n",
       "      <th>drugB</th>\n",
       "      <th>drugC</th>\n",
       "      <th>drugX</th>\n",
       "    </tr>\n",
       "    <tr>\n",
       "      <th>Sex</th>\n",
       "      <th></th>\n",
       "      <th></th>\n",
       "      <th></th>\n",
       "      <th></th>\n",
       "      <th></th>\n",
       "    </tr>\n",
       "  </thead>\n",
       "  <tbody>\n",
       "    <tr>\n",
       "      <th>F</th>\n",
       "      <td>47</td>\n",
       "      <td>9</td>\n",
       "      <td>6</td>\n",
       "      <td>7</td>\n",
       "      <td>27</td>\n",
       "    </tr>\n",
       "    <tr>\n",
       "      <th>M</th>\n",
       "      <td>44</td>\n",
       "      <td>14</td>\n",
       "      <td>10</td>\n",
       "      <td>9</td>\n",
       "      <td>27</td>\n",
       "    </tr>\n",
       "  </tbody>\n",
       "</table>\n",
       "</div>"
      ],
      "text/plain": [
       "Drug  DrugY  drugA  drugB  drugC  drugX\n",
       "Sex                                    \n",
       "F        47      9      6      7     27\n",
       "M        44     14     10      9     27"
      ]
     },
     "execution_count": 132,
     "metadata": {},
     "output_type": "execute_result"
    }
   ],
   "source": [
    "# x변수(Sex기준)으로 y변수(Drug)와의 빈도표\n",
    "tab = pd.crosstab(index=q2['Sex'],columns=q2['Drug'])\n",
    "tab"
   ]
  },
  {
   "cell_type": "code",
   "execution_count": 133,
   "id": "e4e7a9be-107f-4951-ab40-3c6f5cc9e5bd",
   "metadata": {},
   "outputs": [
    {
     "data": {
      "text/plain": [
       "Chi2ContingencyResult(statistic=2.119248418109203, pvalue=0.7138369773987128, dof=4, expected_freq=array([[43.68, 11.04,  7.68,  7.68, 25.92],\n",
       "       [47.32, 11.96,  8.32,  8.32, 28.08]]))"
      ]
     },
     "execution_count": 133,
     "metadata": {},
     "output_type": "execute_result"
    }
   ],
   "source": [
    "# x변수(Sex기준)으로 y변수(Drug)와의 빈도표로 카이스퀘어 검정 진행 \n",
    "\n",
    "chi2_contingency(tab)\n",
    "\n",
    "# 결과 \n",
    "# 카이스퀘어 통계량 statistic \n",
    "# pvalue \n",
    "# 자유도 dof \n",
    "# 기대빈도 expected_freq (array형태) "
   ]
  },
  {
   "cell_type": "markdown",
   "id": "18336e7a-2176-490b-8f9c-91828efad8b6",
   "metadata": {},
   "source": [
    "# 독립성 검정 (x변수들 반복문=자동화)¶"
   ]
  },
  {
   "cell_type": "code",
   "execution_count": 134,
   "id": "9a277b89-03c6-4586-898b-d55495c79586",
   "metadata": {},
   "outputs": [
    {
     "data": {
      "text/plain": [
       "Index(['Age', 'Sex', 'BP', 'Cholesterol', 'Na_to_K', 'Drug', 'Age_gr',\n",
       "       'Na_K_gr'],\n",
       "      dtype='object')"
      ]
     },
     "execution_count": 134,
     "metadata": {},
     "output_type": "execute_result"
    }
   ],
   "source": [
    "# 변수 확인\n",
    "q2.columns"
   ]
  },
  {
   "cell_type": "code",
   "execution_count": 135,
   "id": "1cc410c0-8a52-474d-a8e1-d7e8e9996e54",
   "metadata": {},
   "outputs": [],
   "source": [
    "# 필요 변수 x \n",
    "features = ['Sex','BP','Cholesterol','Age_gr','Na_K_gr']"
   ]
  },
  {
   "cell_type": "code",
   "execution_count": 136,
   "id": "357e4e37-bfe7-483b-8e82-747c613a77b3",
   "metadata": {},
   "outputs": [
    {
     "data": {
      "text/plain": [
       "[['Sex',\n",
       "  Chi2ContingencyResult(statistic=2.119248418109203, pvalue=0.7138369773987128, dof=4, expected_freq=array([[43.68, 11.04,  7.68,  7.68, 25.92],\n",
       "         [47.32, 11.96,  8.32,  8.32, 28.08]]))],\n",
       " ['BP',\n",
       "  Chi2ContingencyResult(statistic=143.2328718496999, pvalue=5.0417334144665895e-27, dof=8, expected_freq=array([[35.035,  8.855,  6.16 ,  6.16 , 20.79 ],\n",
       "         [29.12 ,  7.36 ,  5.12 ,  5.12 , 17.28 ],\n",
       "         [26.845,  6.785,  4.72 ,  4.72 , 15.93 ]]))],\n",
       " ['Cholesterol',\n",
       "  Chi2ContingencyResult(statistic=19.609657681313475, pvalue=0.0005962588389856497, dof=4, expected_freq=array([[46.865, 11.845,  8.24 ,  8.24 , 27.81 ],\n",
       "         [44.135, 11.155,  7.76 ,  7.76 , 26.19 ]]))],\n",
       " ['Age_gr',\n",
       "  Chi2ContingencyResult(statistic=46.440652324723914, pvalue=0.0007010113024729462, dof=20, expected_freq=array([[ 5.46 ,  1.38 ,  0.96 ,  0.96 ,  3.24 ],\n",
       "         [15.925,  4.025,  2.8  ,  2.8  ,  9.45 ],\n",
       "         [16.835,  4.255,  2.96 ,  2.96 ,  9.99 ],\n",
       "         [17.29 ,  4.37 ,  3.04 ,  3.04 , 10.26 ],\n",
       "         [15.015,  3.795,  2.64 ,  2.64 ,  8.91 ],\n",
       "         [20.475,  5.175,  3.6  ,  3.6  , 12.15 ]]))],\n",
       " ['Na_K_gr',\n",
       "  Chi2ContingencyResult(statistic=93.31006327437028, pvalue=1.1254641594413981e-14, dof=12, expected_freq=array([[17.29 ,  4.37 ,  3.04 ,  3.04 , 10.26 ],\n",
       "         [52.325, 13.225,  9.2  ,  9.2  , 31.05 ],\n",
       "         [15.925,  4.025,  2.8  ,  2.8  ,  9.45 ],\n",
       "         [ 5.46 ,  1.38 ,  0.96 ,  0.96 ,  3.24 ]]))]]"
      ]
     },
     "execution_count": 136,
     "metadata": {},
     "output_type": "execute_result"
    }
   ],
   "source": [
    "# 검정진행 & pvalue값들만 담을 변수\n",
    "answer = []\n",
    "\n",
    "# 변수별 검정 진행 (반복문) + p-value만 추출 \n",
    "for i in features : \n",
    "    tab = pd.crosstab(index=q2[i],columns=q2['Drug'])\n",
    "    pvalue = chi2_contingency(tab)\n",
    "    answer.append([i,pvalue])\n",
    "\n",
    "answer"
   ]
  },
  {
   "cell_type": "code",
   "execution_count": 143,
   "id": "32dca149-f5b9-4876-b241-ffc2fae0252a",
   "metadata": {},
   "outputs": [
    {
     "data": {
      "text/html": [
       "<div>\n",
       "<style scoped>\n",
       "    .dataframe tbody tr th:only-of-type {\n",
       "        vertical-align: middle;\n",
       "    }\n",
       "\n",
       "    .dataframe tbody tr th {\n",
       "        vertical-align: top;\n",
       "    }\n",
       "\n",
       "    .dataframe thead th {\n",
       "        text-align: right;\n",
       "    }\n",
       "</style>\n",
       "<table border=\"1\" class=\"dataframe\">\n",
       "  <thead>\n",
       "    <tr style=\"text-align: right;\">\n",
       "      <th>Drug</th>\n",
       "      <th>DrugY</th>\n",
       "      <th>drugA</th>\n",
       "      <th>drugB</th>\n",
       "      <th>drugC</th>\n",
       "      <th>drugX</th>\n",
       "    </tr>\n",
       "    <tr>\n",
       "      <th>Na_K_gr</th>\n",
       "      <th></th>\n",
       "      <th></th>\n",
       "      <th></th>\n",
       "      <th></th>\n",
       "      <th></th>\n",
       "    </tr>\n",
       "  </thead>\n",
       "  <tbody>\n",
       "    <tr>\n",
       "      <th>Lv1</th>\n",
       "      <td>0</td>\n",
       "      <td>7</td>\n",
       "      <td>5</td>\n",
       "      <td>4</td>\n",
       "      <td>22</td>\n",
       "    </tr>\n",
       "    <tr>\n",
       "      <th>Lv2</th>\n",
       "      <td>44</td>\n",
       "      <td>16</td>\n",
       "      <td>11</td>\n",
       "      <td>12</td>\n",
       "      <td>32</td>\n",
       "    </tr>\n",
       "    <tr>\n",
       "      <th>Lv3</th>\n",
       "      <td>35</td>\n",
       "      <td>0</td>\n",
       "      <td>0</td>\n",
       "      <td>0</td>\n",
       "      <td>0</td>\n",
       "    </tr>\n",
       "    <tr>\n",
       "      <th>Lv4</th>\n",
       "      <td>12</td>\n",
       "      <td>0</td>\n",
       "      <td>0</td>\n",
       "      <td>0</td>\n",
       "      <td>0</td>\n",
       "    </tr>\n",
       "  </tbody>\n",
       "</table>\n",
       "</div>"
      ],
      "text/plain": [
       "Drug     DrugY  drugA  drugB  drugC  drugX\n",
       "Na_K_gr                                   \n",
       "Lv1          0      7      5      4     22\n",
       "Lv2         44     16     11     12     32\n",
       "Lv3         35      0      0      0      0\n",
       "Lv4         12      0      0      0      0"
      ]
     },
     "execution_count": 143,
     "metadata": {},
     "output_type": "execute_result"
    }
   ],
   "source": [
    "# 반복문속, 변수별 빈도만 확인\n",
    "pd.crosstab(index=q2[i],columns=q2['Drug'])"
   ]
  },
  {
   "cell_type": "code",
   "execution_count": 138,
   "id": "34be9f22-5d07-472d-bb12-21df1ed85fb8",
   "metadata": {},
   "outputs": [
    {
     "data": {
      "text/plain": [
       "Chi2ContingencyResult(statistic=93.31006327437028, pvalue=1.1254641594413981e-14, dof=12, expected_freq=array([[17.29 ,  4.37 ,  3.04 ,  3.04 , 10.26 ],\n",
       "       [52.325, 13.225,  9.2  ,  9.2  , 31.05 ],\n",
       "       [15.925,  4.025,  2.8  ,  2.8  ,  9.45 ],\n",
       "       [ 5.46 ,  1.38 ,  0.96 ,  0.96 ,  3.24 ]]))"
      ]
     },
     "execution_count": 138,
     "metadata": {},
     "output_type": "execute_result"
    }
   ],
   "source": [
    "# pvalue값 확인\n",
    "chi2_contingency(tab)"
   ]
  },
  {
   "cell_type": "code",
   "execution_count": 144,
   "id": "5542815d-81e7-429c-bde0-fcb9c1a859d6",
   "metadata": {},
   "outputs": [
    {
     "data": {
      "text/plain": [
       "[['Sex', 2.119248418109203],\n",
       " ['BP', 143.2328718496999],\n",
       " ['Cholesterol', 19.609657681313475],\n",
       " ['Age_gr', 46.440652324723914],\n",
       " ['Na_K_gr', 93.31006327437028]]"
      ]
     },
     "execution_count": 144,
     "metadata": {},
     "output_type": "execute_result"
    }
   ],
   "source": [
    "# 검정진행 & pvalue값들만 담을 변수\n",
    "answer = []\n",
    "\n",
    "# 변수별 빈도표 에서 각각의 검정진행한 통계량만 추출\n",
    "for i in features : \n",
    "    tab = pd.crosstab(index=q2[i],columns=q2['Drug'])\n",
    "    pvalue = chi2_contingency(tab)[0]    # [0]카이스퀘어 통계량\n",
    "    answer.append([i,pvalue])\n",
    "\n",
    "answer"
   ]
  },
  {
   "cell_type": "code",
   "execution_count": 145,
   "id": "a7b47545-dd36-44e9-b8b3-69a37e3adafe",
   "metadata": {},
   "outputs": [
    {
     "data": {
      "text/plain": [
       "[['Sex', 0.7138369773987128],\n",
       " ['BP', 5.0417334144665895e-27],\n",
       " ['Cholesterol', 0.0005962588389856497],\n",
       " ['Age_gr', 0.0007010113024729462],\n",
       " ['Na_K_gr', 1.1254641594413981e-14]]"
      ]
     },
     "execution_count": 145,
     "metadata": {},
     "output_type": "execute_result"
    }
   ],
   "source": [
    "# 검정진행 & pvalue값들만 담을 변수\n",
    "answer = []\n",
    "\n",
    "# 변수별 빈도표 에서 각각의 pvalue인덱스만 추출\n",
    "for i in features : \n",
    "    tab = pd.crosstab(index=q2[i],columns=q2['Drug'])\n",
    "    pvalue = chi2_contingency(tab)[1]    # [1]pvalue인덱스만\n",
    "    answer.append([i,pvalue])\n",
    "\n",
    "answer"
   ]
  },
  {
   "cell_type": "code",
   "execution_count": 147,
   "id": "1224e951-7e6c-4b4e-93bc-dc73b490d1d5",
   "metadata": {},
   "outputs": [
    {
     "data": {
      "text/plain": [
       "[['Sex', 4], ['BP', 8], ['Cholesterol', 4], ['Age_gr', 20], ['Na_K_gr', 12]]"
      ]
     },
     "execution_count": 147,
     "metadata": {},
     "output_type": "execute_result"
    }
   ],
   "source": [
    "# 검정진행 & pvalue값들만 담을 변수\n",
    "answer = []\n",
    "\n",
    "# 변수별 빈도표 에서 각각의 자유도만 추출\n",
    "for i in features : \n",
    "    tab = pd.crosstab(index=q2[i],columns=q2['Drug'])\n",
    "    pvalue = chi2_contingency(tab)[2]    # [2]자유도 dof \n",
    "    answer.append([i,pvalue])\n",
    "\n",
    "answer"
   ]
  },
  {
   "cell_type": "code",
   "execution_count": 149,
   "id": "df1a034d-fe91-456c-b9f8-1562567ad333",
   "metadata": {},
   "outputs": [
    {
     "data": {
      "text/plain": [
       "[['Sex',\n",
       "  array([[43.68, 11.04,  7.68,  7.68, 25.92],\n",
       "         [47.32, 11.96,  8.32,  8.32, 28.08]])],\n",
       " ['BP',\n",
       "  array([[35.035,  8.855,  6.16 ,  6.16 , 20.79 ],\n",
       "         [29.12 ,  7.36 ,  5.12 ,  5.12 , 17.28 ],\n",
       "         [26.845,  6.785,  4.72 ,  4.72 , 15.93 ]])],\n",
       " ['Cholesterol',\n",
       "  array([[46.865, 11.845,  8.24 ,  8.24 , 27.81 ],\n",
       "         [44.135, 11.155,  7.76 ,  7.76 , 26.19 ]])],\n",
       " ['Age_gr',\n",
       "  array([[ 5.46 ,  1.38 ,  0.96 ,  0.96 ,  3.24 ],\n",
       "         [15.925,  4.025,  2.8  ,  2.8  ,  9.45 ],\n",
       "         [16.835,  4.255,  2.96 ,  2.96 ,  9.99 ],\n",
       "         [17.29 ,  4.37 ,  3.04 ,  3.04 , 10.26 ],\n",
       "         [15.015,  3.795,  2.64 ,  2.64 ,  8.91 ],\n",
       "         [20.475,  5.175,  3.6  ,  3.6  , 12.15 ]])],\n",
       " ['Na_K_gr',\n",
       "  array([[17.29 ,  4.37 ,  3.04 ,  3.04 , 10.26 ],\n",
       "         [52.325, 13.225,  9.2  ,  9.2  , 31.05 ],\n",
       "         [15.925,  4.025,  2.8  ,  2.8  ,  9.45 ],\n",
       "         [ 5.46 ,  1.38 ,  0.96 ,  0.96 ,  3.24 ]])]]"
      ]
     },
     "execution_count": 149,
     "metadata": {},
     "output_type": "execute_result"
    }
   ],
   "source": [
    "# 검정진행 & pvalue값들만 담을 변수\n",
    "answer = []\n",
    "\n",
    "# 변수별 빈도표 에서 각각의 기대빈도만 추출 \n",
    "for i in features : \n",
    "    tab = pd.crosstab(index=q2[i],columns=q2['Drug'])\n",
    "    pvalue = chi2_contingency(tab)[3]    # [3]기대빈도 expected_freq(array형태) \n",
    "    answer.append([i,pvalue])\n",
    "\n",
    "answer"
   ]
  },
  {
   "cell_type": "markdown",
   "id": "8c5a03e4-8320-47f1-9528-d16ce2034e21",
   "metadata": {},
   "source": [
    "# p-value값 찾기"
   ]
  },
  {
   "cell_type": "code",
   "execution_count": 154,
   "id": "3291dbae-5edf-465b-b17a-3ceb263bdb9e",
   "metadata": {},
   "outputs": [
    {
     "data": {
      "text/plain": [
       "[['Sex', 0.7138369773987128],\n",
       " ['BP', 5.0417334144665895e-27],\n",
       " ['Cholesterol', 0.0005962588389856497],\n",
       " ['Age_gr', 0.0007010113024729462],\n",
       " ['Na_K_gr', 1.1254641594413981e-14]]"
      ]
     },
     "execution_count": 154,
     "metadata": {},
     "output_type": "execute_result"
    }
   ],
   "source": [
    "# 검정진행 & pvalue값들만 담을 변수\n",
    "answer = []\n",
    "\n",
    "# 변수별 빈도표 에서 각각의 pvalue인덱스만 추출\n",
    "for i in features : \n",
    "    tab = pd.crosstab(index=q2[i],columns=q2['Drug'])\n",
    "    pvalue = chi2_contingency(tab)[1]    # [1]pvalue인덱스만\n",
    "    answer.append([i,pvalue])\n",
    "\n",
    "answer"
   ]
  },
  {
   "cell_type": "code",
   "execution_count": 158,
   "id": "3c87f721-2e67-4c68-a805-b6be83713e9a",
   "metadata": {},
   "outputs": [
    {
     "data": {
      "text/html": [
       "<div>\n",
       "<style scoped>\n",
       "    .dataframe tbody tr th:only-of-type {\n",
       "        vertical-align: middle;\n",
       "    }\n",
       "\n",
       "    .dataframe tbody tr th {\n",
       "        vertical-align: top;\n",
       "    }\n",
       "\n",
       "    .dataframe thead th {\n",
       "        text-align: right;\n",
       "    }\n",
       "</style>\n",
       "<table border=\"1\" class=\"dataframe\">\n",
       "  <thead>\n",
       "    <tr style=\"text-align: right;\">\n",
       "      <th></th>\n",
       "      <th>features</th>\n",
       "      <th>pvalue</th>\n",
       "    </tr>\n",
       "  </thead>\n",
       "  <tbody>\n",
       "    <tr>\n",
       "      <th>0</th>\n",
       "      <td>Sex</td>\n",
       "      <td>7.138370e-01</td>\n",
       "    </tr>\n",
       "    <tr>\n",
       "      <th>1</th>\n",
       "      <td>BP</td>\n",
       "      <td>5.041733e-27</td>\n",
       "    </tr>\n",
       "    <tr>\n",
       "      <th>2</th>\n",
       "      <td>Cholesterol</td>\n",
       "      <td>5.962588e-04</td>\n",
       "    </tr>\n",
       "    <tr>\n",
       "      <th>3</th>\n",
       "      <td>Age_gr</td>\n",
       "      <td>7.010113e-04</td>\n",
       "    </tr>\n",
       "    <tr>\n",
       "      <th>4</th>\n",
       "      <td>Na_K_gr</td>\n",
       "      <td>1.125464e-14</td>\n",
       "    </tr>\n",
       "  </tbody>\n",
       "</table>\n",
       "</div>"
      ],
      "text/plain": [
       "      features        pvalue\n",
       "0          Sex  7.138370e-01\n",
       "1           BP  5.041733e-27\n",
       "2  Cholesterol  5.962588e-04\n",
       "3       Age_gr  7.010113e-04\n",
       "4      Na_K_gr  1.125464e-14"
      ]
     },
     "execution_count": 158,
     "metadata": {},
     "output_type": "execute_result"
    }
   ],
   "source": [
    "# 데이터프레임화\n",
    "answer = pd.DataFrame(\n",
    "    answer, \n",
    "    columns = ['features','pvalue']  # 부여할 컬럼 작명\n",
    ")\n",
    "answer"
   ]
  },
  {
   "cell_type": "code",
   "execution_count": 171,
   "id": "40b0c007-9302-4990-bfc4-7ef334982ddd",
   "metadata": {},
   "outputs": [
    {
     "data": {
      "text/plain": [
       "0    False\n",
       "1     True\n",
       "2     True\n",
       "3     True\n",
       "4     True\n",
       "Name: pvalue, dtype: bool"
      ]
     },
     "execution_count": 171,
     "metadata": {},
     "output_type": "execute_result"
    }
   ],
   "source": [
    "# pvalue값이 유의수준보다 작으면 연관성이 있는 값\n",
    "answer['pvalue']<0.05"
   ]
  },
  {
   "cell_type": "code",
   "execution_count": 189,
   "id": "0c53b1a3-65d7-4e6e-b275-1eff60586703",
   "metadata": {},
   "outputs": [
    {
     "data": {
      "text/html": [
       "<div>\n",
       "<style scoped>\n",
       "    .dataframe tbody tr th:only-of-type {\n",
       "        vertical-align: middle;\n",
       "    }\n",
       "\n",
       "    .dataframe tbody tr th {\n",
       "        vertical-align: top;\n",
       "    }\n",
       "\n",
       "    .dataframe thead th {\n",
       "        text-align: right;\n",
       "    }\n",
       "</style>\n",
       "<table border=\"1\" class=\"dataframe\">\n",
       "  <thead>\n",
       "    <tr style=\"text-align: right;\">\n",
       "      <th></th>\n",
       "      <th>features</th>\n",
       "      <th>pvalue</th>\n",
       "    </tr>\n",
       "  </thead>\n",
       "  <tbody>\n",
       "    <tr>\n",
       "      <th>1</th>\n",
       "      <td>BP</td>\n",
       "      <td>5.041733e-27</td>\n",
       "    </tr>\n",
       "    <tr>\n",
       "      <th>2</th>\n",
       "      <td>Cholesterol</td>\n",
       "      <td>5.962588e-04</td>\n",
       "    </tr>\n",
       "    <tr>\n",
       "      <th>3</th>\n",
       "      <td>Age_gr</td>\n",
       "      <td>7.010113e-04</td>\n",
       "    </tr>\n",
       "    <tr>\n",
       "      <th>4</th>\n",
       "      <td>Na_K_gr</td>\n",
       "      <td>1.125464e-14</td>\n",
       "    </tr>\n",
       "  </tbody>\n",
       "</table>\n",
       "</div>"
      ],
      "text/plain": [
       "      features        pvalue\n",
       "1           BP  5.041733e-27\n",
       "2  Cholesterol  5.962588e-04\n",
       "3       Age_gr  7.010113e-04\n",
       "4      Na_K_gr  1.125464e-14"
      ]
     },
     "execution_count": 189,
     "metadata": {},
     "output_type": "execute_result"
    }
   ],
   "source": [
    "# \b연관성 있는 값들만 데이터프레임화\n",
    "answer[answer['pvalue']<0.05]     # Sex 제거됨"
   ]
  },
  {
   "cell_type": "code",
   "execution_count": 190,
   "id": "1bd7b7f6-ec6b-470f-b80e-c47c7c3f683e",
   "metadata": {},
   "outputs": [
    {
     "data": {
      "text/plain": [
       "1    5.041733e-27\n",
       "2    5.962588e-04\n",
       "3    7.010113e-04\n",
       "4    1.125464e-14\n",
       "Name: pvalue, dtype: float64"
      ]
     },
     "execution_count": 190,
     "metadata": {},
     "output_type": "execute_result"
    }
   ],
   "source": [
    "# 데이터프레임 중에서 pvalue값만 \n",
    "answer[answer['pvalue']<0.05]['pvalue']"
   ]
  },
  {
   "cell_type": "code",
   "execution_count": 191,
   "id": "767e2825-365a-4851-8478-68845c65158e",
   "metadata": {},
   "outputs": [
    {
     "data": {
      "text/plain": [
       "0.0007010113024729462"
      ]
     },
     "execution_count": 191,
     "metadata": {},
     "output_type": "execute_result"
    }
   ],
   "source": [
    "# 데이터프레임 중에서 pvalue값 중에서 가장 큰 pvalue = Drug에 가장 영향력있음\n",
    "answer[answer['pvalue']<0.05]['pvalue'].max()"
   ]
  },
  {
   "cell_type": "code",
   "execution_count": 192,
   "id": "73d6f927-1063-4e78-ae24-22b78f3ac08d",
   "metadata": {},
   "outputs": [
    {
     "data": {
      "text/plain": [
       "3"
      ]
     },
     "execution_count": 192,
     "metadata": {},
     "output_type": "execute_result"
    }
   ],
   "source": [
    "# 데이터프레임 중에서 pvalue값 중에서 가장 큰 \b인덱스번호 = Drug에 가장 영향력있음\n",
    "answer[answer['pvalue']<0.05]['pvalue'].idxmax()"
   ]
  },
  {
   "cell_type": "code",
   "execution_count": 197,
   "id": "83da7d36-06cd-48c1-b806-8eb778a8453c",
   "metadata": {},
   "outputs": [
    {
     "data": {
      "text/plain": [
       "features      Age_gr\n",
       "pvalue      0.000701\n",
       "Name: 3, dtype: object"
      ]
     },
     "execution_count": 197,
     "metadata": {},
     "output_type": "execute_result"
    }
   ],
   "source": [
    "for_drug = answer[answer['pvalue'] < 0.05]\n",
    "for_drug_best = for_drug.loc[for_drug['pvalue'].idxmax()]\n",
    "for_drug_best"
   ]
  },
  {
   "cell_type": "code",
   "execution_count": 198,
   "id": "96beead7-bf92-4e5a-ad2c-001d4aca4ea6",
   "metadata": {},
   "outputs": [
    {
     "data": {
      "text/plain": [
       "3"
      ]
     },
     "execution_count": 198,
     "metadata": {},
     "output_type": "execute_result"
    }
   ],
   "source": [
    "for_drug_best.name"
   ]
  },
  {
   "cell_type": "code",
   "execution_count": 202,
   "id": "b7fb29aa-71eb-4205-8f7f-ade37358d601",
   "metadata": {},
   "outputs": [
    {
     "data": {
      "text/plain": [
       "'Age_gr'"
      ]
     },
     "execution_count": 202,
     "metadata": {},
     "output_type": "execute_result"
    }
   ],
   "source": [
    "for_drug_best.features"
   ]
  },
  {
   "cell_type": "code",
   "execution_count": 201,
   "id": "c12a4a8c-c841-4b66-937c-a1e55855dd7c",
   "metadata": {},
   "outputs": [
    {
     "data": {
      "text/plain": [
       "0.0007010113024729462"
      ]
     },
     "execution_count": 201,
     "metadata": {},
     "output_type": "execute_result"
    }
   ],
   "source": [
    "for_drug_best.pvalue"
   ]
  },
  {
   "cell_type": "markdown",
   "id": "1bf8814d-62b4-4348-9aca-070d7c5b2524",
   "metadata": {},
   "source": [
    "# 처방된 약에 영향력이 제일 큰 환자의 상태변수\n"
   ]
  },
  {
   "cell_type": "code",
   "execution_count": 206,
   "id": "5a814dcd-d379-4609-949a-c34ead730407",
   "metadata": {},
   "outputs": [
    {
     "name": "stdout",
     "output_type": "stream",
     "text": [
      "Drug타입에 영향력을 많이 미치는 변수는 Age_gr이고, p-value값은 0.00070입니다.\n"
     ]
    }
   ],
   "source": [
    "print(f'Drug타입에 영향력을 많이 미치는 변수는 {for_drug_best.features}이고, p-value값은 {for_drug_best.pvalue:.5f}입니다.')"
   ]
  },
  {
   "cell_type": "markdown",
   "id": "d28f5ef9-eae6-49d3-a52f-87e738a23a52",
   "metadata": {},
   "source": [
    "# 변수변환(범주->수치)"
   ]
  },
  {
   "cell_type": "code",
   "execution_count": null,
   "id": "099eeb36-eea4-4c81-83c6-347f3e246c09",
   "metadata": {},
   "outputs": [],
   "source": []
  },
  {
   "cell_type": "code",
   "execution_count": null,
   "id": "b86ad642-40ea-4355-a48f-21523b262355",
   "metadata": {},
   "outputs": [],
   "source": []
  },
  {
   "cell_type": "code",
   "execution_count": null,
   "id": "3cb2a6bb-9391-47e7-a149-5d0f02e45329",
   "metadata": {},
   "outputs": [],
   "source": []
  },
  {
   "cell_type": "markdown",
   "id": "17205b98-f2d8-456c-9e5a-5b7da6149a64",
   "metadata": {},
   "source": [
    "# 의사결정나무"
   ]
  },
  {
   "cell_type": "code",
   "execution_count": null,
   "id": "897b01a9-de9e-4120-ac41-fc6c7b9eb510",
   "metadata": {},
   "outputs": [],
   "source": []
  },
  {
   "cell_type": "code",
   "execution_count": null,
   "id": "1be91d1e-8448-4f1f-a271-f2c4f4cf1b7c",
   "metadata": {},
   "outputs": [],
   "source": []
  },
  {
   "cell_type": "markdown",
   "id": "0ef4ff9e-6425-40a1-91f1-6777cb07f2da",
   "metadata": {},
   "source": [
    "# 코드 정리"
   ]
  },
  {
   "cell_type": "code",
   "execution_count": null,
   "id": "158240ec-b419-4261-b38a-2617484762a8",
   "metadata": {},
   "outputs": [],
   "source": []
  },
  {
   "cell_type": "code",
   "execution_count": null,
   "id": "bb44221a-06ed-472e-aa9f-975ad52f569b",
   "metadata": {},
   "outputs": [],
   "source": []
  }
 ],
 "metadata": {
  "kernelspec": {
   "display_name": "Python 3 (ipykernel)",
   "language": "python",
   "name": "python3"
  },
  "language_info": {
   "codemirror_mode": {
    "name": "ipython",
    "version": 3
   },
   "file_extension": ".py",
   "mimetype": "text/x-python",
   "name": "python",
   "nbconvert_exporter": "python",
   "pygments_lexer": "ipython3",
   "version": "3.11.4"
  }
 },
 "nbformat": 4,
 "nbformat_minor": 5
}
